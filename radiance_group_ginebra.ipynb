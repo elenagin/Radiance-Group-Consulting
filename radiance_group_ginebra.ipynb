{
 "cells": [
  {
   "cell_type": "code",
   "execution_count": 658,
   "metadata": {},
   "outputs": [],
   "source": [
    "# import necessary packages\n",
    "import numpy as np\n",
    "import pandas as pd"
   ]
  },
  {
   "cell_type": "markdown",
   "metadata": {},
   "source": [
    "Function definition"
   ]
  },
  {
   "cell_type": "code",
   "execution_count": 659,
   "metadata": {},
   "outputs": [],
   "source": [
    "# Calculate measures of central tendency\n",
    "def central_tendency(col):\n",
    "    print(f\"\\tMean: {col.mean():.2f}\")\n",
    "    print(f\"\\tMedian: {col.median():.2f}\")\n",
    "    print(f\"\\tMode: {col.mode().values[0]:.2f}\")\n",
    "    return\n",
    "\n",
    "# Calculate measures of spread\n",
    "def measures_of_spread(col):\n",
    "    print(f\"\\tRange: {col.max() - col.min():.2f}\")\n",
    "    print(f\"\\tVariance: {col.var():.2f}\")\n",
    "    print(f\"\\tStandard Deviation: {col.std():.2f}\")\n",
    "    return\n",
    "\n",
    "# Get outliers lower bound\n",
    "def get_cutoff_value_lower(col):\n",
    "    IQR = col.quantile(0.75) - col.quantile(0.25)\n",
    "    lower_bound_total_funding = col.quantile(0.25) - 1.5 * IQR\n",
    "    return float(lower_bound_total_funding)\n",
    "\n",
    "# Get outliers upper bound\n",
    "def get_cutoff_value_upper(col):\n",
    "    IQR = col.quantile(0.75) - col.quantile(0.25)\n",
    "    upper_bound_total_funding = col.quantile(0.75) + 1.5 * IQR\n",
    "    return float(upper_bound_total_funding)\n",
    "\n",
    "# Drop outliers\n",
    "def drop_outliers(col):\n",
    "    df_filtered = df[(col >= get_cutoff_value_lower(col)) & (col <= get_cutoff_value_upper(col))]\n",
    "    return df_filtered\n",
    "\n",
    "# Impute outliers\n",
    "def impute_outliers(col):\n",
    "    lower_bound_funding_rounds = get_cutoff_value_lower(col)\n",
    "    upper_bound_funding_rounds = get_cutoff_value_upper(col)\n",
    "    mean_funding_rounds = col.mean()\n",
    "    return col.apply(lambda x: mean_funding_rounds if x < lower_bound_funding_rounds or x > upper_bound_funding_rounds else x)\n",
    "\n",
    "# Replace outliers\n",
    "def capping_method(col):\n",
    "    max_value = col.mean() + (3 * col.std())\n",
    "    min_value = mean_funding_rounds - (3 * col.std())\n",
    "    return col.clip(lower=min_value, upper=max_value)\n"
   ]
  },
  {
   "cell_type": "markdown",
   "metadata": {},
   "source": [
    "Cleaning data import values for nulls, errors and column types"
   ]
  },
  {
   "cell_type": "code",
   "execution_count": 660,
   "metadata": {},
   "outputs": [],
   "source": [
    "# import dataset\n",
    "df = pd.read_csv('https://raw.githubusercontent.com/notpeter/crunchbase-data/master/companies.csv')\n",
    "# df.head()\n"
   ]
  },
  {
   "cell_type": "code",
   "execution_count": 661,
   "metadata": {},
   "outputs": [],
   "source": [
    "df['funding_total_usd'] = df['funding_total_usd'].replace('-', np.nan)\n",
    "df['funding_total_usd'].fillna(0, inplace=True)\n",
    "df['funding_total_usd'] = df['funding_total_usd'].astype(float)\n",
    "df.loc[:, 'founded_at'] = df['first_funding_at']\n",
    "df.dropna(subset=['name'], inplace=True)\n",
    "# Remove comment to view null data from a specific column\n",
    "# df[df['country_code'].isnull()]\n",
    "# Remove comment to review total errors per column\n",
    "# df.isnull().sum()"
   ]
  },
  {
   "cell_type": "markdown",
   "metadata": {},
   "source": [
    "### Measuring Central Tendency and Spread"
   ]
  },
  {
   "cell_type": "markdown",
   "metadata": {},
   "source": [
    "Calculate measures of central tendency and spread for a startup"
   ]
  },
  {
   "cell_type": "code",
   "execution_count": 662,
   "metadata": {},
   "outputs": [
    {
     "name": "stdout",
     "output_type": "stream",
     "text": [
      "Total Funding Raised:\n",
      "\tMean: 14919146.79\n",
      "\tMedian: 1000000.00\n",
      "\tMode: 0.00\n",
      "\tRange: 30079503000.00\n",
      "\tVariance: 28592863519409792.00\n",
      "\tStandard Deviation: 169094244.49\n",
      "\n",
      "Number of Funding Rounds:\n",
      "\tMean: 1.73\n",
      "\tMedian: 1.00\n",
      "\tMode: 1.00\n",
      "\tRange: 18.00\n",
      "\tVariance: 1.85\n",
      "\tStandard Deviation: 1.36\n"
     ]
    }
   ],
   "source": [
    "print(\"Total Funding Raised:\")\n",
    "central_tendency(df['funding_total_usd'])\n",
    "measures_of_spread(df['funding_total_usd'])\n",
    "\n",
    "print(\"\\nNumber of Funding Rounds:\")\n",
    "central_tendency(df['funding_rounds'])\n",
    "measures_of_spread(df['funding_rounds'])"
   ]
  },
  {
   "cell_type": "markdown",
   "metadata": {},
   "source": [
    "For \"Total Funding Raised\" the average funding raised by startups is $14,919,146 USD with an average of 1.7 rounds of funding per startup but it is highly likely that some startups have received exceptionally large funding amounts, which significantly skews the distribution. The mean is much higher than the median, indicating the presence of high-value outliers because probably few startups have received exceptionally large amounts of funding. The mode proves this too because there are many startups with 0 funding (but can also be due to missing data). The variance and range are very large which indicates a presence of outliers at the upper end of the distribution.\n",
    "\n",
    "There is a lot less variation in the \"Funding rounds\" and when observing the difference of measures of central tendency which suggests that the data may be less affected by outliers. The measure of spread also contain moderate levels of variance which indicate that the outliers are not as noticeable.\n"
   ]
  },
  {
   "cell_type": "markdown",
   "metadata": {},
   "source": [
    "### Outlier analysis"
   ]
  },
  {
   "cell_type": "code",
   "execution_count": 663,
   "metadata": {},
   "outputs": [
    {
     "name": "stdout",
     "output_type": "stream",
     "text": [
      "Funding USD Cutoff Values:\n",
      "\tLower Bound: -10100968.25\n",
      "\tUpper Bound: 16941613.75\n",
      "Funding Rounds Cutoff Values:\n",
      "\tLower Bound: -0.5\n",
      "\tUpper Bound: 3.5\n"
     ]
    }
   ],
   "source": [
    "print(\"Funding USD Cutoff Values:\")\n",
    "print(\"\\tLower Bound:\", get_cutoff_value_lower(df['funding_total_usd'])) \n",
    "print(\"\\tUpper Bound:\", get_cutoff_value_upper(df['funding_total_usd'])) \n",
    "\n",
    "print(\"Funding Rounds Cutoff Values:\")\n",
    "print(\"\\tLower Bound:\", get_cutoff_value_lower(df['funding_rounds'])) \n",
    "print(\"\\tUpper Bound:\", get_cutoff_value_upper(df['funding_rounds'])) "
   ]
  },
  {
   "cell_type": "markdown",
   "metadata": {},
   "source": [
    "Dropping outliers..."
   ]
  },
  {
   "cell_type": "code",
   "execution_count": 664,
   "metadata": {},
   "outputs": [
    {
     "name": "stdout",
     "output_type": "stream",
     "text": [
      "Funding USD Central Tendency & Spread Values:\n",
      "\tMean: 2295979.82\n",
      "\tMedian: 500000.00\n",
      "\tMode: 0.00\n",
      "\tRange: 16940000.00\n",
      "\tVariance: 13652942299664.25\n",
      "\tStandard Deviation: 3694988.81\n",
      "Funding Rounds Central Tendency & Spread Values:\n",
      "\tMean: 1.39\n",
      "\tMedian: 1.00\n",
      "\tMode: 1.00\n",
      "\tRange: 2.00\n",
      "\tVariance: 0.42\n",
      "\tStandard Deviation: 0.65\n"
     ]
    }
   ],
   "source": [
    "print(\"Funding USD Central Tendency & Spread Values:\")\n",
    "a = drop_outliers(df['funding_total_usd'])\n",
    "central_tendency(a['funding_total_usd'])\n",
    "measures_of_spread(a['funding_total_usd'])\n",
    "\n",
    "print(\"Funding Rounds Central Tendency & Spread Values:\")\n",
    "a = drop_outliers(df['funding_rounds'])\n",
    "central_tendency(a['funding_rounds'])\n",
    "measures_of_spread(a['funding_rounds'])"
   ]
  },
  {
   "cell_type": "markdown",
   "metadata": {},
   "source": [
    "Imputing the outliers..."
   ]
  },
  {
   "cell_type": "code",
   "execution_count": 665,
   "metadata": {},
   "outputs": [
    {
     "name": "stdout",
     "output_type": "stream",
     "text": [
      "Funding USD Central Tendency & Spread Values:\n",
      "\tMean: 4134667.04\n",
      "\tMedian: 1000000.00\n",
      "\tMode: 0.00\n",
      "\tRange: 16940000.00\n",
      "\tVariance: 31493812244873.62\n",
      "\tStandard Deviation: 5611934.80\n",
      "Funding Rounds Central Tendency & Spread Values:\n",
      "\tMean: 1.42\n",
      "\tMedian: 1.00\n",
      "\tMode: 1.00\n",
      "\tRange: 2.00\n",
      "\tVariance: 0.40\n",
      "\tStandard Deviation: 0.63\n"
     ]
    }
   ],
   "source": [
    "print(\"Funding USD Central Tendency & Spread Values:\")\n",
    "df_impute = impute_outliers(df['funding_total_usd'])\n",
    "central_tendency(df_impute)\n",
    "measures_of_spread(df_impute)\n",
    "\n",
    "print(\"Funding Rounds Central Tendency & Spread Values:\")\n",
    "df_impute = impute_outliers(df['funding_rounds'])\n",
    "central_tendency(df_impute)\n",
    "measures_of_spread(df_impute)"
   ]
  },
  {
   "cell_type": "markdown",
   "metadata": {},
   "source": [
    "Replacing the outliers..."
   ]
  },
  {
   "cell_type": "code",
   "execution_count": 666,
   "metadata": {},
   "outputs": [
    {
     "name": "stdout",
     "output_type": "stream",
     "text": [
      "Funding USD Central Tendency & Spread Values:\n",
      "\tMean: 12259954.54\n",
      "\tMedian: 1000000.00\n",
      "\tMode: 0.00\n",
      "\tRange: 522201880.26\n",
      "\tVariance: 1779142869819118.00\n",
      "\tStandard Deviation: 42179887.03\n",
      "Funding Rounds Central Tendency & Spread Values:\n",
      "\tMean: 1.69\n",
      "\tMedian: 1.00\n",
      "\tMode: 1.00\n",
      "\tRange: 4.81\n",
      "\tVariance: 1.37\n",
      "\tStandard Deviation: 1.17\n"
     ]
    }
   ],
   "source": [
    "print(\"Funding USD Central Tendency & Spread Values:\")\n",
    "capping_method_usd = capping_method(df['funding_total_usd'])\n",
    "central_tendency(capping_method_usd)\n",
    "measures_of_spread(capping_method_usd)\n",
    "\n",
    "print(\"Funding Rounds Central Tendency & Spread Values:\")\n",
    "capping_method_rounds = capping_method(df['funding_rounds'])\n",
    "central_tendency(capping_method_rounds)\n",
    "measures_of_spread(capping_method_rounds)"
   ]
  },
  {
   "cell_type": "markdown",
   "metadata": {},
   "source": [
    "We can see that each method provides different values of central tendency and measures of spread but there is little difference between different methods once we have dealt with outliers, no matter in which any way. It seems what is important is to first notice that there are outliers and then deal them in whichever way is best depending on the dataset and variance observed."
   ]
  },
  {
   "cell_type": "markdown",
   "metadata": {},
   "source": [
    "### Sampling Techniques\n",
    "Let's drop all outliers and draw a random sample of 1000 for each variable and see the results."
   ]
  },
  {
   "cell_type": "code",
   "execution_count": 667,
   "metadata": {},
   "outputs": [
    {
     "name": "stdout",
     "output_type": "stream",
     "text": [
      "\tMean: 2286771.90\n",
      "\tMedian: 444031.61\n",
      "\tMode: 0.00\n",
      "\tRange: 16500000.00\n",
      "\tVariance: 13756400087448.58\n",
      "\tStandard Deviation: 3708962.13\n",
      "\tMean: 1.41\n",
      "\tMedian: 1.00\n",
      "\tMode: 1.00\n",
      "\tRange: 2.00\n",
      "\tVariance: 0.45\n",
      "\tStandard Deviation: 0.67\n"
     ]
    }
   ],
   "source": [
    "random_sample_df = drop_outliers(df['funding_total_usd']).sample(n=1000) #random_state=42\n",
    "central_tendency(random_sample_df['funding_total_usd'])\n",
    "measures_of_spread(random_sample_df['funding_total_usd'])\n",
    "\n",
    "random_sample_df = drop_outliers(df['funding_rounds']).sample(n=1000) #random_state=42\n",
    "central_tendency(random_sample_df['funding_rounds'])\n",
    "measures_of_spread(random_sample_df['funding_rounds'])"
   ]
  },
  {
   "cell_type": "markdown",
   "metadata": {},
   "source": [
    "We can see that depending on the sample selected we will get different results  but if we run the cell multiple times, the results dont vary more than approx 5%."
   ]
  },
  {
   "cell_type": "markdown",
   "metadata": {},
   "source": [
    "### Subsetting and Sampling\n",
    " Segment your dataset from Question 3 to get companies based only in United States and this time draw a series of samples randomly of a sufficient size, say, 10, 50, 100, 500, and 1000. Next, analyse the total funding amount for these startups based in United States using various methods of central tendency and measures of spread and report your observations."
   ]
  },
  {
   "cell_type": "code",
   "execution_count": 703,
   "metadata": {},
   "outputs": [
    {
     "name": "stdout",
     "output_type": "stream",
     "text": [
      "Funding USD Central Tendency & Spread Values for sample size  10  :\n",
      "\tMean: 4453750.00\n",
      "\tMedian: 3250000.00\n",
      "\tMode: 150000.00\n",
      "\tRange: 11015000.00\n",
      "\tVariance: 28355389583333.33\n",
      "\tStandard Deviation: 5324977.90\n",
      "Funding Rounds Central Tendency & Spread Values for sample size  10  :\n",
      "\tMean: 1.17\n",
      "\tMedian: 1.00\n",
      "\tMode: 1.00\n",
      "\tRange: 1.00\n",
      "\tVariance: 0.17\n",
      "\tStandard Deviation: 0.41\n",
      "Funding USD Central Tendency & Spread Values for sample size  50  :\n",
      "\tMean: 383333.33\n",
      "\tMedian: 250000.00\n",
      "\tMode: 0.00\n",
      "\tRange: 1000000.00\n",
      "\tVariance: 201666666666.67\n",
      "\tStandard Deviation: 449073.12\n",
      "Funding Rounds Central Tendency & Spread Values for sample size  50  :\n",
      "\tMean: 1.44\n",
      "\tMedian: 1.00\n",
      "\tMode: 1.00\n",
      "\tRange: 2.00\n",
      "\tVariance: 0.53\n",
      "\tStandard Deviation: 0.73\n",
      "Funding USD Central Tendency & Spread Values for sample size  100  :\n",
      "\tMean: 2903503.40\n",
      "\tMedian: 600000.00\n",
      "\tMode: 0.00\n",
      "\tRange: 9000000.00\n",
      "\tVariance: 15264138744057.80\n",
      "\tStandard Deviation: 3906934.70\n",
      "Funding Rounds Central Tendency & Spread Values for sample size  100  :\n",
      "\tMean: 1.33\n",
      "\tMedian: 1.00\n",
      "\tMode: 1.00\n",
      "\tRange: 1.00\n",
      "\tVariance: 0.27\n",
      "\tStandard Deviation: 0.52\n",
      "Funding USD Central Tendency & Spread Values for sample size  500  :\n",
      "\tMean: 1394260.00\n",
      "\tMedian: 1170000.00\n",
      "\tMode: 0.00\n",
      "\tRange: 4380000.00\n",
      "\tVariance: 3066984738000.00\n",
      "\tStandard Deviation: 1751280.88\n",
      "Funding Rounds Central Tendency & Spread Values for sample size  500  :\n",
      "\tMean: 1.57\n",
      "\tMedian: 1.00\n",
      "\tMode: 1.00\n",
      "\tRange: 2.00\n",
      "\tVariance: 0.62\n",
      "\tStandard Deviation: 0.79\n",
      "Funding USD Central Tendency & Spread Values for sample size  1000  :\n",
      "\tMean: 832053.33\n",
      "\tMedian: 202160.00\n",
      "\tMode: 120000.00\n",
      "\tRange: 2488000.00\n",
      "\tVariance: 1139020433066.67\n",
      "\tStandard Deviation: 1067249.00\n",
      "Funding Rounds Central Tendency & Spread Values for sample size  1000  :\n",
      "\tMean: 1.38\n",
      "\tMedian: 1.00\n",
      "\tMode: 1.00\n",
      "\tRange: 1.00\n",
      "\tVariance: 0.27\n",
      "\tStandard Deviation: 0.52\n"
     ]
    }
   ],
   "source": [
    "samples_sizes_to_test = [10, 50, 100, 500, 1000]\n",
    "\n",
    "for size in samples_sizes_to_test:\n",
    "    random_sample_df = drop_outliers(df['funding_total_usd']).sample(n=10)\n",
    "    usa_mask = random_sample_df['country_code'] == 'USA'\n",
    "    usa_df = random_sample_df[usa_mask]\n",
    "    print(\"Funding USD Central Tendency & Spread Values for sample size \", size, \" :\")\n",
    "    central_tendency(usa_df['funding_total_usd'])\n",
    "    measures_of_spread(usa_df['funding_total_usd'])\n",
    "\n",
    "    random_sample_df = drop_outliers(df['funding_rounds']).sample(n=10)\n",
    "    usa_mask = random_sample_df['country_code'] == 'USA'\n",
    "    usa_df = random_sample_df[usa_mask]\n",
    "    print(\"Funding Rounds Central Tendency & Spread Values for sample size \", size, \" :\")\n",
    "    central_tendency(usa_df['funding_rounds'])\n",
    "    measures_of_spread(usa_df['funding_rounds'])"
   ]
  },
  {
   "cell_type": "markdown",
   "metadata": {},
   "source": [
    "### Subsetting, Sampling, Benchmarking and Visualisation:\n",
    "Segment your dataset from Question 3 and this time draw a sample randomly of a sufficient size, say, 100 to get companies based in each of the United States, Canada, France, Germany, China, India and South Korea. Next, analyse the same dataset to find average number of days taken for a startup to be funded for each of the aforesaid countries and compare results (While making necessary computations, assume that there are 30 days in each month at an average). Analyse the numerical variable(s) for each of the countries using various measures of central tendencies and spread and report your observations. Create appropriate plots (if necessary) to explain the variables."
   ]
  },
  {
   "cell_type": "code",
   "execution_count": 669,
   "metadata": {},
   "outputs": [
    {
     "name": "stdout",
     "output_type": "stream",
     "text": [
      "Q6\n"
     ]
    }
   ],
   "source": [
    "print(\"Q6\")"
   ]
  },
  {
   "cell_type": "markdown",
   "metadata": {},
   "source": [
    "### Probability Theory: \n",
    "Find the probability for startups of being funded within the first 6 months since their creation for the overall dataset and then repeat the same sequence of procedures for the countries United States, Canada, France, Germany, China, and India (While making necessary computations, assume that there are 30 days in each month at an average). Report your results in writing and compare them varying across various geographies. Create appropriate plots (if necessary) to draw conclusions if necessary."
   ]
  },
  {
   "cell_type": "code",
   "execution_count": 670,
   "metadata": {},
   "outputs": [
    {
     "name": "stdout",
     "output_type": "stream",
     "text": [
      "Q7\n"
     ]
    }
   ],
   "source": [
    "print(\"Q7\")"
   ]
  },
  {
   "cell_type": "markdown",
   "metadata": {},
   "source": [
    "### Advanced Probability Theory\n",
    "Find the probability for startups of being funded within the first 6 months given the fact that they are based on software domain and then repeat the same sequence of procedures for the countries United States, Canada, France, Germany, China, and India(Use the value ‘Software’ in the appropriate variable of your choice)."
   ]
  },
  {
   "cell_type": "code",
   "execution_count": 671,
   "metadata": {},
   "outputs": [
    {
     "name": "stdout",
     "output_type": "stream",
     "text": [
      "Q8\n"
     ]
    }
   ],
   "source": [
    "print(\"Q8\")"
   ]
  },
  {
   "cell_type": "markdown",
   "metadata": {},
   "source": [
    "### Advanced Probability Theory\n",
    "Find the probability that a startup belongs to health care domain given the fact that it was funded within the first 6 months and then repeat the same sequence of procedures for the countries United States, Canada, France, Germany, China, and India (Use the value ‘Health Care’ in the appropriate variable of your choice). Report your results based on probability found as a whole and then comparison across various countries.\n"
   ]
  },
  {
   "cell_type": "code",
   "execution_count": 672,
   "metadata": {},
   "outputs": [
    {
     "name": "stdout",
     "output_type": "stream",
     "text": [
      "Q9\n"
     ]
    }
   ],
   "source": [
    "print(\"Q9\")"
   ]
  },
  {
   "cell_type": "markdown",
   "metadata": {},
   "source": [
    "### Advanced Probability Theory\n",
    "Repeat the analysis in Question 8 but this time perform the operation by first sampling your dataset randomly by getting only 10 data points in the beginning and report your observations as that in Question 8. Next, attempt to repeat the aforesaid procedure for dataset of increasing sample size of 50, 100, 200, 300, 400, 500, 600, and 800. Plot the various probabilities observed against the number of data points you have obtained and write in your own words the observations. "
   ]
  },
  {
   "cell_type": "code",
   "execution_count": 673,
   "metadata": {},
   "outputs": [
    {
     "name": "stdout",
     "output_type": "stream",
     "text": [
      "Q10\n"
     ]
    }
   ],
   "source": [
    "print(\"Q10\")"
   ]
  }
 ],
 "metadata": {
  "kernelspec": {
   "display_name": "Python 3",
   "language": "python",
   "name": "python3"
  },
  "language_info": {
   "codemirror_mode": {
    "name": "ipython",
    "version": 3
   },
   "file_extension": ".py",
   "mimetype": "text/x-python",
   "name": "python",
   "nbconvert_exporter": "python",
   "pygments_lexer": "ipython3",
   "version": "3.10.1"
  }
 },
 "nbformat": 4,
 "nbformat_minor": 2
}
