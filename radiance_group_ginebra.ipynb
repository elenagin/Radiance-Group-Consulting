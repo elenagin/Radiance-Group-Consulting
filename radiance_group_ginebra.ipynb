{
 "cells": [
  {
   "cell_type": "markdown",
   "metadata": {},
   "source": [
    "### Library imports"
   ]
  },
  {
   "cell_type": "code",
   "execution_count": 674,
   "metadata": {},
   "outputs": [],
   "source": [
    "# import necessary packages\n",
    "import numpy as np\n",
    "import pandas as pd\n",
    "import matplotlib.pyplot as plt\n",
    "import seaborn as sns"
   ]
  },
  {
   "cell_type": "markdown",
   "metadata": {},
   "source": [
    "### Function definition"
   ]
  },
  {
   "cell_type": "code",
   "execution_count": 675,
   "metadata": {},
   "outputs": [],
   "source": [
    "# Calculate measures of central tendency\n",
    "def central_tendency(col):\n",
    "    print(f\"\\tMean: {col.mean():.2f}\")\n",
    "    print(f\"\\tMedian: {col.median():.2f}\")\n",
    "    print(f\"\\tMode: {col.mode().values[0]:.2f}\")\n",
    "    return\n",
    "\n",
    "# Calculate measures of spread\n",
    "def measures_of_spread(col):\n",
    "    print(f\"\\tRange: {col.max() - col.min():.2f}\")\n",
    "    print(f\"\\tVariance: {col.var():.2f}\")\n",
    "    print(f\"\\tStandard Deviation: {col.std():.2f}\")\n",
    "    return\n",
    "\n",
    "# Get outliers lower bound\n",
    "def get_cutoff_value_lower(col):\n",
    "    IQR = col.quantile(0.75) - col.quantile(0.25)\n",
    "    lower_bound_total_funding = col.quantile(0.25) - 1.5 * IQR\n",
    "    return float(lower_bound_total_funding)\n",
    "\n",
    "# Get outliers upper bound\n",
    "def get_cutoff_value_upper(col):\n",
    "    IQR = col.quantile(0.75) - col.quantile(0.25)\n",
    "    upper_bound_total_funding = col.quantile(0.75) + 1.5 * IQR\n",
    "    return float(upper_bound_total_funding)\n",
    "\n",
    "# Drop outliers\n",
    "def drop_outliers(col, key):\n",
    "    mask = (col[key] >= get_cutoff_value_lower(col[key])) & (col[key] <= get_cutoff_value_upper(col[key]))\n",
    "    return col[mask]\n",
    "\n",
    "# Replace outliers\n",
    "def capping_method(df, col):\n",
    "    max_value = df[col].mean() + (3 * df[col].std())\n",
    "    min_value = df[col].mean() - (3 * df[col].std())\n",
    "    return df[col].clip(lower=min_value, upper=max_value)\n",
    "\n",
    "# Function for plotting\n",
    "def hist_plotting(df, x, y, hue, title):\n",
    "    plt.figure(figsize=(8, 6))\n",
    "    sns.histplot(x=x, y=y , data=df, color='skyblue', hue=hue)\n",
    "    # plt.xlabel('country')\n",
    "    plt.title(title)\n",
    "    plt.tight_layout()\n",
    "    plt.show()\n",
    "    return 0\n",
    "\n",
    "def impute_outliers(df, column_name):\n",
    "    mean = df[column_name].mean()\n",
    "    std = df[column_name].std()\n",
    "    z_score_threshold = 3.0\n",
    "    is_outlier = (df[column_name] - mean).abs() > z_score_threshold * std\n",
    "    df.loc[is_outlier, column_name] = mean\n",
    "    return df\n"
   ]
  },
  {
   "cell_type": "markdown",
   "metadata": {},
   "source": [
    "Cleaning data import values for nulls, errors and column types"
   ]
  },
  {
   "cell_type": "code",
   "execution_count": 676,
   "metadata": {},
   "outputs": [
    {
     "data": {
      "text/html": [
       "<div>\n",
       "<style scoped>\n",
       "    .dataframe tbody tr th:only-of-type {\n",
       "        vertical-align: middle;\n",
       "    }\n",
       "\n",
       "    .dataframe tbody tr th {\n",
       "        vertical-align: top;\n",
       "    }\n",
       "\n",
       "    .dataframe thead th {\n",
       "        text-align: right;\n",
       "    }\n",
       "</style>\n",
       "<table border=\"1\" class=\"dataframe\">\n",
       "  <thead>\n",
       "    <tr style=\"text-align: right;\">\n",
       "      <th></th>\n",
       "      <th>permalink</th>\n",
       "      <th>name</th>\n",
       "      <th>homepage_url</th>\n",
       "      <th>category_list</th>\n",
       "      <th>funding_total_usd</th>\n",
       "      <th>status</th>\n",
       "      <th>country_code</th>\n",
       "      <th>state_code</th>\n",
       "      <th>region</th>\n",
       "      <th>city</th>\n",
       "      <th>funding_rounds</th>\n",
       "      <th>founded_at</th>\n",
       "      <th>first_funding_at</th>\n",
       "      <th>last_funding_at</th>\n",
       "    </tr>\n",
       "  </thead>\n",
       "  <tbody>\n",
       "    <tr>\n",
       "      <th>0</th>\n",
       "      <td>/organization/-fame</td>\n",
       "      <td>#fame</td>\n",
       "      <td>http://livfame.com</td>\n",
       "      <td>Media</td>\n",
       "      <td>10000000</td>\n",
       "      <td>operating</td>\n",
       "      <td>IND</td>\n",
       "      <td>16</td>\n",
       "      <td>Mumbai</td>\n",
       "      <td>Mumbai</td>\n",
       "      <td>1</td>\n",
       "      <td>NaN</td>\n",
       "      <td>2015-01-05</td>\n",
       "      <td>2015-01-05</td>\n",
       "    </tr>\n",
       "    <tr>\n",
       "      <th>1</th>\n",
       "      <td>/organization/-qounter</td>\n",
       "      <td>:Qounter</td>\n",
       "      <td>http://www.qounter.com</td>\n",
       "      <td>Application Platforms|Real Time|Social Network...</td>\n",
       "      <td>700000</td>\n",
       "      <td>operating</td>\n",
       "      <td>USA</td>\n",
       "      <td>DE</td>\n",
       "      <td>DE - Other</td>\n",
       "      <td>Delaware City</td>\n",
       "      <td>2</td>\n",
       "      <td>2014-09-04</td>\n",
       "      <td>2014-03-01</td>\n",
       "      <td>2014-10-14</td>\n",
       "    </tr>\n",
       "    <tr>\n",
       "      <th>2</th>\n",
       "      <td>/organization/-the-one-of-them-inc-</td>\n",
       "      <td>(THE) ONE of THEM,Inc.</td>\n",
       "      <td>http://oneofthem.jp</td>\n",
       "      <td>Apps|Games|Mobile</td>\n",
       "      <td>3406878</td>\n",
       "      <td>operating</td>\n",
       "      <td>NaN</td>\n",
       "      <td>NaN</td>\n",
       "      <td>NaN</td>\n",
       "      <td>NaN</td>\n",
       "      <td>1</td>\n",
       "      <td>NaN</td>\n",
       "      <td>2014-01-30</td>\n",
       "      <td>2014-01-30</td>\n",
       "    </tr>\n",
       "    <tr>\n",
       "      <th>3</th>\n",
       "      <td>/organization/0-6-com</td>\n",
       "      <td>0-6.com</td>\n",
       "      <td>http://www.0-6.com</td>\n",
       "      <td>Curated Web</td>\n",
       "      <td>2000000</td>\n",
       "      <td>operating</td>\n",
       "      <td>CHN</td>\n",
       "      <td>22</td>\n",
       "      <td>Beijing</td>\n",
       "      <td>Beijing</td>\n",
       "      <td>1</td>\n",
       "      <td>2007-01-01</td>\n",
       "      <td>2008-03-19</td>\n",
       "      <td>2008-03-19</td>\n",
       "    </tr>\n",
       "    <tr>\n",
       "      <th>4</th>\n",
       "      <td>/organization/004-technologies</td>\n",
       "      <td>004 Technologies</td>\n",
       "      <td>http://004gmbh.de/en/004-interact</td>\n",
       "      <td>Software</td>\n",
       "      <td>-</td>\n",
       "      <td>operating</td>\n",
       "      <td>USA</td>\n",
       "      <td>IL</td>\n",
       "      <td>Springfield, Illinois</td>\n",
       "      <td>Champaign</td>\n",
       "      <td>1</td>\n",
       "      <td>2010-01-01</td>\n",
       "      <td>2014-07-24</td>\n",
       "      <td>2014-07-24</td>\n",
       "    </tr>\n",
       "  </tbody>\n",
       "</table>\n",
       "</div>"
      ],
      "text/plain": [
       "                             permalink                    name  \\\n",
       "0                  /organization/-fame                   #fame   \n",
       "1               /organization/-qounter                :Qounter   \n",
       "2  /organization/-the-one-of-them-inc-  (THE) ONE of THEM,Inc.   \n",
       "3                /organization/0-6-com                 0-6.com   \n",
       "4       /organization/004-technologies        004 Technologies   \n",
       "\n",
       "                        homepage_url  \\\n",
       "0                 http://livfame.com   \n",
       "1             http://www.qounter.com   \n",
       "2                http://oneofthem.jp   \n",
       "3                 http://www.0-6.com   \n",
       "4  http://004gmbh.de/en/004-interact   \n",
       "\n",
       "                                       category_list funding_total_usd  \\\n",
       "0                                              Media          10000000   \n",
       "1  Application Platforms|Real Time|Social Network...            700000   \n",
       "2                                  Apps|Games|Mobile           3406878   \n",
       "3                                        Curated Web           2000000   \n",
       "4                                           Software                 -   \n",
       "\n",
       "      status country_code state_code                 region           city  \\\n",
       "0  operating          IND         16                 Mumbai         Mumbai   \n",
       "1  operating          USA         DE             DE - Other  Delaware City   \n",
       "2  operating          NaN        NaN                    NaN            NaN   \n",
       "3  operating          CHN         22                Beijing        Beijing   \n",
       "4  operating          USA         IL  Springfield, Illinois      Champaign   \n",
       "\n",
       "   funding_rounds  founded_at first_funding_at last_funding_at  \n",
       "0               1         NaN       2015-01-05      2015-01-05  \n",
       "1               2  2014-09-04       2014-03-01      2014-10-14  \n",
       "2               1         NaN       2014-01-30      2014-01-30  \n",
       "3               1  2007-01-01       2008-03-19      2008-03-19  \n",
       "4               1  2010-01-01       2014-07-24      2014-07-24  "
      ]
     },
     "execution_count": 676,
     "metadata": {},
     "output_type": "execute_result"
    }
   ],
   "source": [
    "# import dataset\n",
    "df = pd.read_csv('https://raw.githubusercontent.com/notpeter/crunchbase-data/master/companies.csv')\n",
    "df.to_csv('https://raw.githubusercontent.com/notpeter/crunchbase-data/master/companies.csv', sep='\\t')\n",
    "\n",
    "df.head()\n"
   ]
  },
  {
   "cell_type": "code",
   "execution_count": 677,
   "metadata": {},
   "outputs": [],
   "source": [
    "# Replacing nulls for costs and changing to 0\n",
    "df['funding_total_usd'] = df['funding_total_usd'].replace('-', np.nan)\n",
    "df['funding_total_usd'].fillna(0, inplace=True)\n",
    "df.dropna(subset=['name'], inplace=True)\n",
    "\n",
    "# Editing columns data type for ease of handling\n",
    "df['funding_total_usd'] = df['funding_total_usd'].astype(float)\n",
    "df['funding_rounds'] = df['funding_rounds'].astype(float)\n",
    "\n",
    "\n",
    "# Parsing date columns\n",
    "df['first_funding_at'] = pd.to_datetime(df['first_funding_at'], errors='coerce')\n",
    "df['last_funding_at'] = pd.to_datetime(df['last_funding_at'], errors='coerce')\n",
    "df.loc[:, 'founded_at'] = df['first_funding_at']\n",
    "df = df.dropna(subset=['first_funding_at', 'last_funding_at'])\n",
    "\n",
    "# Remove comment below to view null data from a specific column\n",
    "# df[df['country_code'].isnull()]\n",
    "# Remove comment below to review total errors per column\n",
    "# df.isnull().sum()"
   ]
  },
  {
   "cell_type": "markdown",
   "metadata": {},
   "source": [
    "### Measuring Central Tendency and Spread"
   ]
  },
  {
   "cell_type": "markdown",
   "metadata": {},
   "source": [
    "Calculate measures of central tendency and spread for a startup"
   ]
  },
  {
   "cell_type": "code",
   "execution_count": 678,
   "metadata": {},
   "outputs": [
    {
     "name": "stdout",
     "output_type": "stream",
     "text": [
      "Total Funding Raised:\n",
      "\tMean: 14923495.81\n",
      "\tMedian: 1000000.00\n",
      "\tMode: 0.00\n",
      "\tRange: 30079503000.00\n",
      "\tVariance: 28604425623420144.00\n",
      "\tStandard Deviation: 169128429.38\n",
      "\n",
      "Number of Funding Rounds:\n",
      "\tMean: 1.73\n",
      "\tMedian: 1.00\n",
      "\tMode: 1.00\n",
      "\tRange: 18.00\n",
      "\tVariance: 1.85\n",
      "\tStandard Deviation: 1.36\n"
     ]
    }
   ],
   "source": [
    "print(\"Total Funding Raised:\")\n",
    "central_tendency(df['funding_total_usd'])\n",
    "measures_of_spread(df['funding_total_usd'])\n",
    "\n",
    "print(\"\\nNumber of Funding Rounds:\")\n",
    "central_tendency(df['funding_rounds'])\n",
    "measures_of_spread(df['funding_rounds'])"
   ]
  },
  {
   "cell_type": "markdown",
   "metadata": {},
   "source": [
    "For \"Total Funding Raised\" the average funding raised by startups is $14,919,146 USD with an average of 1.7 rounds of funding per startup but it is highly likely that some startups have received exceptionally large funding amounts, which significantly skews the distribution. The mean is much higher than the median, indicating the presence of high-value outliers because probably few startups have received exceptionally large amounts of funding. The mode proves this too because there are many startups with 0 funding (but can also be due to missing data). The variance and range are very large which indicates a presence of outliers at the upper end of the distribution.\n",
    "\n",
    "There is a lot less variation in the \"Funding rounds\" and when observing the difference of measures of central tendency which suggests that the data may be less affected by outliers. The measures of spread also contain moderate levels of variance which indicate that the outliers are not as noticeable.\n"
   ]
  },
  {
   "cell_type": "markdown",
   "metadata": {},
   "source": [
    "### Outlier analysis"
   ]
  },
  {
   "cell_type": "code",
   "execution_count": 679,
   "metadata": {},
   "outputs": [
    {
     "name": "stdout",
     "output_type": "stream",
     "text": [
      "Funding USD Cutoff Values:\n",
      "\tLower Bound: -10103850.125\n",
      "\tUpper Bound: 16946416.875\n",
      "Funding Rounds Cutoff Values:\n",
      "\tLower Bound: -0.5\n",
      "\tUpper Bound: 3.5\n"
     ]
    }
   ],
   "source": [
    "print(\"Funding USD Cutoff Values:\")\n",
    "print(\"\\tLower Bound:\", get_cutoff_value_lower(df['funding_total_usd'])) \n",
    "print(\"\\tUpper Bound:\", get_cutoff_value_upper(df['funding_total_usd'])) \n",
    "\n",
    "print(\"Funding Rounds Cutoff Values:\")\n",
    "print(\"\\tLower Bound:\", get_cutoff_value_lower(df['funding_rounds'])) \n",
    "print(\"\\tUpper Bound:\", get_cutoff_value_upper(df['funding_rounds'])) "
   ]
  },
  {
   "cell_type": "markdown",
   "metadata": {},
   "source": [
    "#### Dropping outliers..."
   ]
  },
  {
   "cell_type": "code",
   "execution_count": 680,
   "metadata": {},
   "outputs": [
    {
     "name": "stdout",
     "output_type": "stream",
     "text": [
      "Funding USD Central Tendency & Spread Values:\n",
      "\tMean: 2296085.22\n",
      "\tMedian: 500000.00\n",
      "\tMode: 0.00\n",
      "\tRange: 16940000.00\n",
      "\tVariance: 13653619317206.98\n",
      "\tStandard Deviation: 3695080.42\n",
      "Funding Rounds Central Tendency & Spread Values:\n",
      "\tMean: 1.39\n",
      "\tMedian: 1.00\n",
      "\tMode: 1.00\n",
      "\tRange: 2.00\n",
      "\tVariance: 0.42\n",
      "\tStandard Deviation: 0.65\n"
     ]
    }
   ],
   "source": [
    "print(\"Funding USD Central Tendency & Spread Values:\")\n",
    "dropped_outliers_df = drop_outliers(df, 'funding_total_usd')\n",
    "central_tendency(dropped_outliers_df['funding_total_usd'])\n",
    "measures_of_spread(dropped_outliers_df['funding_total_usd'])\n",
    "\n",
    "print(\"Funding Rounds Central Tendency & Spread Values:\")\n",
    "dropped_outliers_df = drop_outliers(df, 'funding_rounds')\n",
    "central_tendency(dropped_outliers_df['funding_rounds'])\n",
    "measures_of_spread(dropped_outliers_df['funding_rounds'])"
   ]
  },
  {
   "cell_type": "markdown",
   "metadata": {},
   "source": [
    "By simply dropping the outliers, the variance and standard deviation have significantly dropped therefore we can confirm a high presence of outliers. By removing them, the results should be a lot less skewed but there could be a potentially high loss of data following this method."
   ]
  },
  {
   "cell_type": "markdown",
   "metadata": {},
   "source": [
    "##### Imputing the outliers..."
   ]
  },
  {
   "cell_type": "code",
   "execution_count": 681,
   "metadata": {},
   "outputs": [
    {
     "name": "stdout",
     "output_type": "stream",
     "text": [
      "Funding USD Central Tendency & Spread Values:\n",
      "\tMean: 11016818.26\n",
      "\tMedian: 1000000.00\n",
      "\tMode: 0.00\n",
      "\tRange: 515000000.00\n",
      "\tVariance: 1139344002905151.25\n",
      "\tStandard Deviation: 33754170.16\n",
      "Funding USD Central Tendency & Spread Values:\n",
      "\tMean: 1.59\n",
      "\tMedian: 1.00\n",
      "\tMode: 1.00\n",
      "\tRange: 4.00\n",
      "\tVariance: 0.92\n",
      "\tStandard Deviation: 0.96\n"
     ]
    }
   ],
   "source": [
    "print(\"Funding USD Central Tendency & Spread Values:\")\n",
    "df_impute = impute_outliers(df, 'funding_total_usd')\n",
    "central_tendency(df_impute['funding_total_usd'])\n",
    "measures_of_spread(df_impute['funding_total_usd'])\n",
    "\n",
    "print(\"Funding USD Central Tendency & Spread Values:\")\n",
    "df_impute = impute_outliers(df, 'funding_rounds')\n",
    "central_tendency(df_impute['funding_rounds'])\n",
    "measures_of_spread(df_impute['funding_rounds'])"
   ]
  },
  {
   "cell_type": "markdown",
   "metadata": {},
   "source": [
    "#### Using the capping method"
   ]
  },
  {
   "cell_type": "code",
   "execution_count": 682,
   "metadata": {},
   "outputs": [
    {
     "name": "stdout",
     "output_type": "stream",
     "text": [
      "Funding USD Central Tendency & Spread Values:\n",
      "\tMean: 9293929.05\n",
      "\tMedian: 1000000.00\n",
      "\tMode: 0.00\n",
      "\tRange: 112279328.73\n",
      "\tVariance: 449918870459192.19\n",
      "\tStandard Deviation: 21211291.11\n",
      "Funding USD Central Tendency & Spread Values:\n",
      "\tMean: 1.57\n",
      "\tMedian: 1.00\n",
      "\tMode: 1.00\n",
      "\tRange: 3.46\n",
      "\tVariance: 0.84\n",
      "\tStandard Deviation: 0.92\n"
     ]
    }
   ],
   "source": [
    "print(\"Funding USD Central Tendency & Spread Values:\")\n",
    "capping_method_df = capping_method(df, 'funding_total_usd')\n",
    "central_tendency(capping_method_df)\n",
    "measures_of_spread(capping_method_df)\n",
    "\n",
    "#print(\"Funding Rounds Central Tendency & Spread Values:\")\n",
    "print(\"Funding USD Central Tendency & Spread Values:\")\n",
    "capping_method_df = capping_method(df, 'funding_rounds')\n",
    "central_tendency(capping_method_df)\n",
    "measures_of_spread(capping_method_df)"
   ]
  },
  {
   "cell_type": "markdown",
   "metadata": {},
   "source": [
    "We can see that each method provides different values of central tendency and measures of spread but there is little difference between different methods once we have dealt with outliers, no matter in which any way. It seems what is important is to first notice that there are outliers and then deal them in whichever way is best depending on the dataset and variance observed."
   ]
  },
  {
   "cell_type": "markdown",
   "metadata": {},
   "source": [
    "### Sampling Techniques\n",
    "Let's drop all outliers and draw a random sample of 1000 for each variable and see the results."
   ]
  },
  {
   "cell_type": "code",
   "execution_count": 683,
   "metadata": {},
   "outputs": [
    {
     "name": "stdout",
     "output_type": "stream",
     "text": [
      "\tMean: 2379911.14\n",
      "\tMedian: 440000.00\n",
      "\tMode: 0.00\n",
      "\tRange: 16900000.00\n",
      "\tVariance: 14434460444951.65\n",
      "\tStandard Deviation: 3799271.04\n",
      "\tMean: 1.41\n",
      "\tMedian: 1.00\n",
      "\tMode: 1.00\n",
      "\tRange: 2.00\n",
      "\tVariance: 0.41\n",
      "\tStandard Deviation: 0.64\n"
     ]
    }
   ],
   "source": [
    "random_sample_df = drop_outliers(df, 'funding_total_usd').sample(n=1000) #random_state=42\n",
    "central_tendency(random_sample_df['funding_total_usd'])\n",
    "measures_of_spread(random_sample_df['funding_total_usd'])\n",
    "\n",
    "random_sample_df = drop_outliers(df, 'funding_rounds').sample(n=1000) #random_state=42\n",
    "central_tendency(random_sample_df['funding_rounds'])\n",
    "measures_of_spread(random_sample_df['funding_rounds'])"
   ]
  },
  {
   "cell_type": "markdown",
   "metadata": {},
   "source": [
    "We can see that depending on the sample selected we will get different results  but if we run the cell multiple times, the results dont vary more than 0.60-0.68 which indicates that the values tend to cluster around the mean. In other words, the data points are not widely scattered and are relatively close to the average value."
   ]
  },
  {
   "cell_type": "markdown",
   "metadata": {},
   "source": [
    "### Subsetting and Sampling\n",
    " Segment your dataset from Question 3 to get companies based only in United States and this time draw a series of samples randomly of a sufficient size, say, 10, 50, 100, 500, and 1000. Next, analyse the total funding amount for these startups based in United States using various methods of central tendency and measures of spread and report your observations."
   ]
  },
  {
   "cell_type": "code",
   "execution_count": 684,
   "metadata": {},
   "outputs": [
    {
     "name": "stdout",
     "output_type": "stream",
     "text": [
      "Funding USD Central Tendency & Spread Values for sample size  10 :\n",
      "\tMean: 2445770.26\n",
      "\tMedian: 370000.00\n",
      "\tMode: 0.00\n",
      "\tRange: 16000000.00\n",
      "\tVariance: 15473953350662.00\n",
      "\tStandard Deviation: 3933694.62\n",
      "Funding USD Central Tendency & Spread Values for sample size  100 :\n",
      "\tMean: 2013226.96\n",
      "\tMedian: 600000.00\n",
      "\tMode: 0.00\n",
      "\tRange: 15000000.00\n",
      "\tVariance: 12032410933421.32\n",
      "\tStandard Deviation: 3468776.58\n",
      "Funding USD Central Tendency & Spread Values for sample size  500 :\n",
      "\tMean: 3677881.98\n",
      "\tMedian: 2500000.00\n",
      "\tMode: 0.00\n",
      "\tRange: 16000000.00\n",
      "\tVariance: 19091172615486.13\n",
      "\tStandard Deviation: 4369344.64\n",
      "Funding USD Central Tendency & Spread Values for sample size  1000 :\n",
      "\tMean: 2440817.08\n",
      "\tMedian: 936494.00\n",
      "\tMode: 0.00\n",
      "\tRange: 14224980.00\n",
      "\tVariance: 11725361940838.76\n",
      "\tStandard Deviation: 3424231.58\n"
     ]
    }
   ],
   "source": [
    "samples_sizes_to_test = [10, 100, 500, 1000]\n",
    "\n",
    "for size in samples_sizes_to_test:\n",
    "    random_sample_df = drop_outliers(df, 'funding_total_usd').sample(n=100)\n",
    "    usa_mask = random_sample_df['country_code'] == 'USA'\n",
    "    usa_df = random_sample_df[usa_mask]\n",
    "    print(\"Funding USD Central Tendency & Spread Values for sample size \", size, \":\")\n",
    "    central_tendency(usa_df['funding_total_usd'])\n",
    "    measures_of_spread(usa_df['funding_total_usd'])"
   ]
  },
  {
   "cell_type": "markdown",
   "metadata": {},
   "source": [
    "Sample size affects the statistics, such as mean and median, but the range remains consistent. The mode many times is is also consistent with 0.00, indicating that a significant number of data points have no recorded funding across all samples.\n",
    "\n",
    "In conclusion, the choice of sample size can significantly impact the summary statistics, and the presence of zero funding values can still significantly skew results in any sample."
   ]
  },
  {
   "cell_type": "markdown",
   "metadata": {},
   "source": [
    "### Subsetting, Sampling, Benchmarking and Visualisation:\n",
    "Segment your dataset from Question 3 and this time draw a sample randomly of a sufficient size, say, 100 to get companies based in each of the United States, Canada, France, Germany, China, India and South Korea. Next, analyse the same dataset to find average number of days taken for a startup to be funded for each of the aforesaid countries and compare results (While making necessary computations, assume that there are 30 days in each month at an average). Analyse the numerical variable(s) for each of the countries using various measures of central tendencies and spread and report your observations. Create appropriate plots (if necessary) to explain the variables."
   ]
  },
  {
   "cell_type": "code",
   "execution_count": 735,
   "metadata": {},
   "outputs": [
    {
     "name": "stdout",
     "output_type": "stream",
     "text": [
      "\tMean: 157.25\n",
      "\tMedian: 0.00\n",
      "\tMode: 0.00\n",
      "\tRange: 1980.00\n",
      "\tVariance: 116729.05\n",
      "\tStandard Deviation: 341.66\n"
     ]
    },
    {
     "name": "stderr",
     "output_type": "stream",
     "text": [
      "/var/folders/wv/f74f4dpn75v5cgd05yy1xcs80000gn/T/ipykernel_3926/4127972260.py:5: SettingWithCopyWarning: \n",
      "A value is trying to be set on a copy of a slice from a DataFrame.\n",
      "Try using .loc[row_indexer,col_indexer] = value instead\n",
      "\n",
      "See the caveats in the documentation: https://pandas.pydata.org/pandas-docs/stable/user_guide/indexing.html#returning-a-view-versus-a-copy\n",
      "  selected_countries_df['founded_to_first_funding_days'] = (selected_countries_df['last_funding_at'] - selected_countries_df['first_funding_at']).dt.days\n"
     ]
    },
    {
     "data": {
      "image/png": "[encoded data removed]",
      "text/plain": [
       "<Figure size 640x480 with 1 Axes>"
      ]
     },
     "metadata": {},
     "output_type": "display_data"
    }
   ],
   "source": [
    "selected_countries = ['USA', 'CAN', 'FRA', 'DEU', 'CHN', 'IND', 'KOR']\n",
    "random_sample_df = drop_outliers(dropped_outliers_df, 'funding_total_usd').sample(n=100)\n",
    "selected_countries_mask = random_sample_df['country_code'].isin(selected_countries)\n",
    "selected_countries_df = random_sample_df[selected_countries_mask]\n",
    "selected_countries_df['founded_to_first_funding_days'] = (selected_countries_df['last_funding_at'] - selected_countries_df['first_funding_at']).dt.days\n",
    "central_tendency(selected_countries_df['founded_to_first_funding_days'])\n",
    "measures_of_spread(selected_countries_df['founded_to_first_funding_days'])\n",
    "\n",
    "selected_countries_df.groupby('country_code')['founded_to_first_funding_days'].mean().astype(int).plot(kind='bar')\n",
    "sns.set(style='whitegrid')\n",
    "plt.title('Average Days Taken to be Funded per Country')\n",
    "plt.xlabel('Country Code')\n",
    "plt.ylabel('Average Days')\n",
    "plt.xticks(rotation=0)\n",
    "plt.show()"
   ]
  },
  {
   "cell_type": "markdown",
   "metadata": {},
   "source": [
    "We can see that the average number of days taken for a startup to be funded is highest in United States and China"
   ]
  },
  {
   "cell_type": "markdown",
   "metadata": {},
   "source": [
    "### Probability Theory: \n",
    "Find the probability for startups of being funded within the first 6 months since their creation for the overall dataset and then repeat the same sequence of procedures for the countries United States, Canada, France, Germany, China, and India (While making necessary computations, assume that there are 30 days in each month at an average). Report your results in writing and compare them varying across various geographies. Create appropriate plots (if necessary) to draw conclusions if necessary."
   ]
  },
  {
   "cell_type": "code",
   "execution_count": 686,
   "metadata": {},
   "outputs": [
    {
     "name": "stdout",
     "output_type": "stream",
     "text": [
      "Q7\n"
     ]
    }
   ],
   "source": [
    "print(\"Q7\")"
   ]
  },
  {
   "cell_type": "markdown",
   "metadata": {},
   "source": [
    "### Advanced Probability Theory\n",
    "Find the probability for startups of being funded within the first 6 months given the fact that they are based on software domain and then repeat the same sequence of procedures for the countries United States, Canada, France, Germany, China, and India(Use the value ‘Software’ in the appropriate variable of your choice)."
   ]
  },
  {
   "cell_type": "code",
   "execution_count": 687,
   "metadata": {},
   "outputs": [
    {
     "ename": "NameError",
     "evalue": "name 'ddddprint' is not defined",
     "output_type": "error",
     "traceback": [
      "\u001b[0;31m---------------------------------------------------------------------------\u001b[0m",
      "\u001b[0;31mNameError\u001b[0m                                 Traceback (most recent call last)",
      "\u001b[1;32m/Users/lenn/Desktop/BTS/Statistics/radiance_group_ginebra.ipynb Cell 32\u001b[0m line \u001b[0;36m1\n\u001b[0;32m----> <a href='vscode-notebook-cell:/Users/lenn/Desktop/BTS/Statistics/radiance_group_ginebra.ipynb#X41sZmlsZQ%3D%3D?line=0'>1</a>\u001b[0m ddddprint(\u001b[39m\"\u001b[39m\u001b[39mQ8\u001b[39m\u001b[39m\"\u001b[39m)\n",
      "\u001b[0;31mNameError\u001b[0m: name 'ddddprint' is not defined"
     ]
    }
   ],
   "source": [
    "ddddprint(\"Q8\")"
   ]
  },
  {
   "cell_type": "markdown",
   "metadata": {},
   "source": [
    "### Advanced Probability Theory\n",
    "Find the probability that a startup belongs to health care domain given the fact that it was funded within the first 6 months and then repeat the same sequence of procedures for the countries United States, Canada, France, Germany, China, and India (Use the value ‘Health Care’ in the appropriate variable of your choice). Report your results based on probability found as a whole and then comparison across various countries.\n"
   ]
  },
  {
   "cell_type": "code",
   "execution_count": null,
   "metadata": {},
   "outputs": [
    {
     "name": "stdout",
     "output_type": "stream",
     "text": [
      "Q9\n"
     ]
    }
   ],
   "source": [
    "print(\"Q9\")"
   ]
  },
  {
   "cell_type": "markdown",
   "metadata": {},
   "source": [
    "### Advanced Probability Theory\n",
    "Repeat the analysis in Question 8 but this time perform the operation by first sampling your dataset randomly by getting only 10 data points in the beginning and report your observations as that in Question 8. Next, attempt to repeat the aforesaid procedure for dataset of increasing sample size of 50, 100, 200, 300, 400, 500, 600, and 800. Plot the various probabilities observed against the number of data points you have obtained and write in your own words the observations. "
   ]
  },
  {
   "cell_type": "code",
   "execution_count": null,
   "metadata": {},
   "outputs": [
    {
     "name": "stdout",
     "output_type": "stream",
     "text": [
      "Q10\n"
     ]
    }
   ],
   "source": [
    "print(\"Q10\")"
   ]
  }
 ],
 "metadata": {
  "kernelspec": {
   "display_name": "Python 3",
   "language": "python",
   "name": "python3"
  },
  "language_info": {
   "codemirror_mode": {
    "name": "ipython",
    "version": 3
   },
   "file_extension": ".py",
   "mimetype": "text/x-python",
   "name": "python",
   "nbconvert_exporter": "python",
   "pygments_lexer": "ipython3",
   "version": "3.10.1"
  }
 },
 "nbformat": 4,
 "nbformat_minor": 2
}
