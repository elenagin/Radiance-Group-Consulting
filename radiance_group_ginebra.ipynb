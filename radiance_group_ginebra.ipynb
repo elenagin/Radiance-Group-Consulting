{
 "cells": [
  {
   "cell_type": "code",
   "execution_count": 127,
   "metadata": {},
   "outputs": [],
   "source": [
    "# import necessary packages\n",
    "import numpy as np\n",
    "import pandas as pd"
   ]
  },
  {
   "cell_type": "markdown",
   "metadata": {},
   "source": [
    "Function definition"
   ]
  },
  {
   "cell_type": "code",
   "execution_count": 128,
   "metadata": {},
   "outputs": [],
   "source": [
    "# Calculate measures of central tendency\n",
    "def central_tendency(col):\n",
    "    print(f\"Mean: {col.mean():.2f}\")\n",
    "    print(f\"Median: {col.median():.2f}\")\n",
    "    print(f\"Mode: {col.mode().values[0]:.2f}\")\n",
    "    return\n",
    "\n",
    "# Calculate measures of spread\n",
    "def measures_of_spread(col):\n",
    "    print(f\"Mean: {col.mean():.2f}\")\n",
    "    print(f\"Median: {col.median():.2f}\")\n",
    "    print(f\"Mode: {col.mode().values[0]:.2f}\")\n",
    "    return"
   ]
  },
  {
   "cell_type": "markdown",
   "metadata": {},
   "source": [
    "Cleaning data import values for nulls, errors and column types"
   ]
  },
  {
   "cell_type": "code",
   "execution_count": 129,
   "metadata": {},
   "outputs": [],
   "source": [
    "# import dataset\n",
    "df = pd.read_csv('https://raw.githubusercontent.com/notpeter/crunchbase-data/master/companies.csv')\n",
    "# df.head()\n"
   ]
  },
  {
   "cell_type": "code",
   "execution_count": 130,
   "metadata": {},
   "outputs": [],
   "source": [
    "df['funding_total_usd'] = df['funding_total_usd'].replace('-', np.nan)\n",
    "df['funding_total_usd'].fillna(0, inplace=True)\n",
    "df['funding_total_usd'] = df['funding_total_usd'].astype(float)\n",
    "df.loc[:, 'founded_at'] = df['first_funding_at']\n",
    "df.dropna(subset=['name'], inplace=True)\n",
    "# Remove comment to view null data from a specific column\n",
    "# df[df['country_code'].isnull()]\n",
    "# Remove comment to review total errors per column\n",
    "# df.isnull().sum()"
   ]
  },
  {
   "cell_type": "markdown",
   "metadata": {},
   "source": [
    "### Measuring Central Tendency and Spread"
   ]
  },
  {
   "cell_type": "markdown",
   "metadata": {},
   "source": [
    "Calculate measures of central tendency and spread for a startup"
   ]
  },
  {
   "cell_type": "code",
   "execution_count": 131,
   "metadata": {},
   "outputs": [
    {
     "name": "stdout",
     "output_type": "stream",
     "text": [
      "Total Funding Raised:\n",
      "Mean: 14919146.79\n",
      "Median: 1000000.00\n",
      "Mode: 0.00\n",
      "Mean: 14919146.79\n",
      "Median: 1000000.00\n",
      "Mode: 0.00\n",
      "\n",
      "Number of Funding Rounds:\n",
      "Mean: 1.73\n",
      "Median: 1.00\n",
      "Mode: 1.00\n",
      "Mean: 1.73\n",
      "Median: 1.00\n",
      "Mode: 1.00\n"
     ]
    }
   ],
   "source": [
    "print(\"Total Funding Raised:\")\n",
    "central_tendency(df['funding_total_usd'])\n",
    "measures_of_spread(df['funding_total_usd'])\n",
    "\n",
    "print(\"\\nNumber of Funding Rounds:\")\n",
    "central_tendency(df['funding_rounds'])\n",
    "measures_of_spread(df['funding_rounds'])\n",
    "\n",
    "# print(\"\\nNumber of Funding Rounds:\")\n",
    "# central_tendency"
   ]
  },
  {
   "cell_type": "markdown",
   "metadata": {},
   "source": [
    "For \"Total Funding Raised\" the average funding raised by startups is $14,919,146 USD with an average of 1.7 rounds of funding per startup but it is highly likely that some startups have received exceptionally large funding amounts, which significantly skews the distribution. The mean is much higher than the median, indicating the presence of high-value outliers because probably few startups have received exceptionally large amounts of funding. The mode proves this too because there are many startups with 0 funding (but can also be due to missing data). The variance and range are very large which indicates a presence of outliers at the upper end of the distribution.\n",
    "\n",
    "There is a lot less variation in the \"Funding rounds\" and when observing the difference of measures of central tendency which suggests that the data may be less affected by outliers. The measure of spread also contain moderate levels of variance which indicate that the outliers are not as noticeable.\n"
   ]
  },
  {
   "cell_type": "markdown",
   "metadata": {},
   "source": [
    "### Outlier analysis"
   ]
  },
  {
   "cell_type": "code",
   "execution_count": null,
   "metadata": {},
   "outputs": [],
   "source": []
  },
  {
   "cell_type": "markdown",
   "metadata": {},
   "source": []
  }
 ],
 "metadata": {
  "kernelspec": {
   "display_name": "Python 3",
   "language": "python",
   "name": "python3"
  },
  "language_info": {
   "codemirror_mode": {
    "name": "ipython",
    "version": 3
   },
   "file_extension": ".py",
   "mimetype": "text/x-python",
   "name": "python",
   "nbconvert_exporter": "python",
   "pygments_lexer": "ipython3",
   "version": "3.10.1"
  }
 },
 "nbformat": 4,
 "nbformat_minor": 2
}
