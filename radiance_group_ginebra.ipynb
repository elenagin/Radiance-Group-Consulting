{
 "cells": [
  {
   "cell_type": "markdown",
   "metadata": {},
   "source": [
    "### Library imports"
   ]
  },
  {
   "cell_type": "code",
   "execution_count": 877,
   "metadata": {},
   "outputs": [],
   "source": [
    "# import necessary packages\n",
    "import numpy as np\n",
    "import pandas as pd\n",
    "import matplotlib.pyplot as plt\n",
    "import seaborn as sns"
   ]
  },
  {
   "cell_type": "markdown",
   "metadata": {},
   "source": [
    "### Function definition"
   ]
  },
  {
   "cell_type": "code",
   "execution_count": 878,
   "metadata": {},
   "outputs": [],
   "source": [
    "# Calculate measures of central tendency\n",
    "def central_tendency(col):\n",
    "    print(f\"\\tMean: {col.mean():.2f}\")\n",
    "    print(f\"\\tMedian: {col.median():.2f}\")\n",
    "    print(f\"\\tMode: {col.mode().values[0]:.2f}\")\n",
    "    return\n",
    "\n",
    "# Calculate measures of spread\n",
    "def measures_of_spread(col):\n",
    "    print(f\"\\tRange: {col.max() - col.min():.2f}\")\n",
    "    print(f\"\\tVariance: {col.var():.2f}\")\n",
    "    print(f\"\\tStandard Deviation: {col.std():.2f}\")\n",
    "    return\n",
    "\n",
    "# Get outliers lower bound\n",
    "def get_cutoff_value_lower(col):\n",
    "    IQR = col.quantile(0.75) - col.quantile(0.25)\n",
    "    lower_bound_total_funding = col.quantile(0.25) - 1.5 * IQR\n",
    "    return float(lower_bound_total_funding)\n",
    "\n",
    "# Get outliers upper bound\n",
    "def get_cutoff_value_upper(col):\n",
    "    IQR = col.quantile(0.75) - col.quantile(0.25)\n",
    "    upper_bound_total_funding = col.quantile(0.75) + 1.5 * IQR\n",
    "    return float(upper_bound_total_funding)\n",
    "\n",
    "# Drop outliers\n",
    "def drop_outliers(col, key):\n",
    "    mask = (col[key] >= get_cutoff_value_lower(col[key])) & (col[key] <= get_cutoff_value_upper(col[key]))\n",
    "    return col[mask]\n",
    "\n",
    "# Capping method\n",
    "def capping_method(df, col):\n",
    "    max_value = df[col].mean() + (3 * df[col].std())\n",
    "    min_value = df[col].mean() - (3 * df[col].std())\n",
    "    return df[col].clip(lower=min_value, upper=max_value)\n",
    "\n",
    "# Function for plotting\n",
    "def hist_plotting(df, x, y, hue, title):\n",
    "    plt.figure(figsize=(8, 6))\n",
    "    sns.histplot(x=x, y=y , data=df, color='skyblue', hue=hue)\n",
    "    # plt.xlabel('country')\n",
    "    plt.title(title)\n",
    "    plt.tight_layout()\n",
    "    plt.show()\n",
    "    return 0\n",
    "\n",
    "def impute_outliers(df, column_name):\n",
    "    mean = df[column_name].mean()\n",
    "    std = df[column_name].std()\n",
    "    z_score_threshold = 3.0\n",
    "    is_outlier = (df[column_name] - mean).abs() > z_score_threshold * std\n",
    "    df.loc[is_outlier, column_name] = mean\n",
    "    return df\n"
   ]
  },
  {
   "cell_type": "markdown",
   "metadata": {},
   "source": [
    "Cleaning data import values for nulls, errors and column types"
   ]
  },
  {
   "cell_type": "code",
   "execution_count": 879,
   "metadata": {},
   "outputs": [
    {
     "data": {
      "text/html": [
       "<div>\n",
       "<style scoped>\n",
       "    .dataframe tbody tr th:only-of-type {\n",
       "        vertical-align: middle;\n",
       "    }\n",
       "\n",
       "    .dataframe tbody tr th {\n",
       "        vertical-align: top;\n",
       "    }\n",
       "\n",
       "    .dataframe thead th {\n",
       "        text-align: right;\n",
       "    }\n",
       "</style>\n",
       "<table border=\"1\" class=\"dataframe\">\n",
       "  <thead>\n",
       "    <tr style=\"text-align: right;\">\n",
       "      <th></th>\n",
       "      <th>permalink</th>\n",
       "      <th>name</th>\n",
       "      <th>homepage_url</th>\n",
       "      <th>category_list</th>\n",
       "      <th>funding_total_usd</th>\n",
       "      <th>status</th>\n",
       "      <th>country_code</th>\n",
       "      <th>state_code</th>\n",
       "      <th>region</th>\n",
       "      <th>city</th>\n",
       "      <th>funding_rounds</th>\n",
       "      <th>founded_at</th>\n",
       "      <th>first_funding_at</th>\n",
       "      <th>last_funding_at</th>\n",
       "    </tr>\n",
       "  </thead>\n",
       "  <tbody>\n",
       "    <tr>\n",
       "      <th>0</th>\n",
       "      <td>/organization/-fame</td>\n",
       "      <td>#fame</td>\n",
       "      <td>http://livfame.com</td>\n",
       "      <td>Media</td>\n",
       "      <td>10000000</td>\n",
       "      <td>operating</td>\n",
       "      <td>IND</td>\n",
       "      <td>16</td>\n",
       "      <td>Mumbai</td>\n",
       "      <td>Mumbai</td>\n",
       "      <td>1</td>\n",
       "      <td>NaN</td>\n",
       "      <td>2015-01-05</td>\n",
       "      <td>2015-01-05</td>\n",
       "    </tr>\n",
       "    <tr>\n",
       "      <th>1</th>\n",
       "      <td>/organization/-qounter</td>\n",
       "      <td>:Qounter</td>\n",
       "      <td>http://www.qounter.com</td>\n",
       "      <td>Application Platforms|Real Time|Social Network...</td>\n",
       "      <td>700000</td>\n",
       "      <td>operating</td>\n",
       "      <td>USA</td>\n",
       "      <td>DE</td>\n",
       "      <td>DE - Other</td>\n",
       "      <td>Delaware City</td>\n",
       "      <td>2</td>\n",
       "      <td>2014-09-04</td>\n",
       "      <td>2014-03-01</td>\n",
       "      <td>2014-10-14</td>\n",
       "    </tr>\n",
       "    <tr>\n",
       "      <th>2</th>\n",
       "      <td>/organization/-the-one-of-them-inc-</td>\n",
       "      <td>(THE) ONE of THEM,Inc.</td>\n",
       "      <td>http://oneofthem.jp</td>\n",
       "      <td>Apps|Games|Mobile</td>\n",
       "      <td>3406878</td>\n",
       "      <td>operating</td>\n",
       "      <td>NaN</td>\n",
       "      <td>NaN</td>\n",
       "      <td>NaN</td>\n",
       "      <td>NaN</td>\n",
       "      <td>1</td>\n",
       "      <td>NaN</td>\n",
       "      <td>2014-01-30</td>\n",
       "      <td>2014-01-30</td>\n",
       "    </tr>\n",
       "  </tbody>\n",
       "</table>\n",
       "</div>"
      ],
      "text/plain": [
       "                             permalink                    name  \\\n",
       "0                  /organization/-fame                   #fame   \n",
       "1               /organization/-qounter                :Qounter   \n",
       "2  /organization/-the-one-of-them-inc-  (THE) ONE of THEM,Inc.   \n",
       "\n",
       "             homepage_url                                      category_list  \\\n",
       "0      http://livfame.com                                              Media   \n",
       "1  http://www.qounter.com  Application Platforms|Real Time|Social Network...   \n",
       "2     http://oneofthem.jp                                  Apps|Games|Mobile   \n",
       "\n",
       "  funding_total_usd     status country_code state_code      region  \\\n",
       "0          10000000  operating          IND         16      Mumbai   \n",
       "1            700000  operating          USA         DE  DE - Other   \n",
       "2           3406878  operating          NaN        NaN         NaN   \n",
       "\n",
       "            city  funding_rounds  founded_at first_funding_at last_funding_at  \n",
       "0         Mumbai               1         NaN       2015-01-05      2015-01-05  \n",
       "1  Delaware City               2  2014-09-04       2014-03-01      2014-10-14  \n",
       "2            NaN               1         NaN       2014-01-30      2014-01-30  "
      ]
     },
     "execution_count": 879,
     "metadata": {},
     "output_type": "execute_result"
    }
   ],
   "source": [
    "# import dataset\n",
    "df = pd.read_csv('https://raw.githubusercontent.com/notpeter/crunchbase-data/master/companies.csv')\n",
    "df.head(3)\n"
   ]
  },
  {
   "cell_type": "code",
   "execution_count": 880,
   "metadata": {},
   "outputs": [],
   "source": [
    "# Replacing nulls for costs and changing to 0\n",
    "df['funding_total_usd'] = df['funding_total_usd'].replace('-', np.nan)\n",
    "df['funding_total_usd'].fillna(0, inplace=True)\n",
    "df.dropna(subset=['name'], inplace=True)\n",
    "\n",
    "# Editing columns data type for ease of handling\n",
    "df['funding_total_usd'] = df['funding_total_usd'].astype(float)\n",
    "df['funding_rounds'] = df['funding_rounds'].astype(float)\n",
    "\n",
    "\n",
    "# Parsing date columns\n",
    "df['first_funding_at'] = pd.to_datetime(df['first_funding_at'], errors='coerce')\n",
    "df['last_funding_at'] = pd.to_datetime(df['last_funding_at'], errors='coerce')\n",
    "df.loc[:, 'founded_at'] = df['first_funding_at']\n",
    "df = df.dropna(subset=['first_funding_at', 'last_funding_at'])\n",
    "\n",
    "# Remove comment below to view null data from a specific column\n",
    "# df[df['country_code'].isnull()]\n",
    "# Remove comment below to review total errors per column\n",
    "# df.isnull().sum()"
   ]
  },
  {
   "cell_type": "markdown",
   "metadata": {},
   "source": [
    "### Measuring Central Tendency and Spread"
   ]
  },
  {
   "cell_type": "markdown",
   "metadata": {},
   "source": [
    "Calculate measures of central tendency and spread for a startup"
   ]
  },
  {
   "cell_type": "code",
   "execution_count": 881,
   "metadata": {},
   "outputs": [
    {
     "name": "stdout",
     "output_type": "stream",
     "text": [
      "Total Funding Raised:\n",
      "\tMean: 14923495.81\n",
      "\tMedian: 1000000.00\n",
      "\tMode: 0.00\n",
      "\tRange: 30079503000.00\n",
      "\tVariance: 28604425623420144.00\n",
      "\tStandard Deviation: 169128429.38\n",
      "\n",
      "Number of Funding Rounds:\n",
      "\tMean: 1.73\n",
      "\tMedian: 1.00\n",
      "\tMode: 1.00\n",
      "\tRange: 18.00\n",
      "\tVariance: 1.85\n",
      "\tStandard Deviation: 1.36\n"
     ]
    }
   ],
   "source": [
    "print(\"Total Funding Raised:\")\n",
    "central_tendency(df['funding_total_usd'])\n",
    "measures_of_spread(df['funding_total_usd'])\n",
    "\n",
    "print(\"\\nNumber of Funding Rounds:\")\n",
    "central_tendency(df['funding_rounds'])\n",
    "measures_of_spread(df['funding_rounds'])"
   ]
  },
  {
   "cell_type": "markdown",
   "metadata": {},
   "source": [
    "For \"Total Funding Raised\" the average funding raised by startups is $14,919,146 USD with an average of 1.7 rounds of funding per startup but it is highly likely that some startups have received exceptionally large funding amounts, which significantly skews the distribution. The mean is much higher than the median, indicating the presence of high-value outliers because probably few startups have received exceptionally large amounts of funding. The mode proves this too because there are many startups with 0 funding (but can also be due to missing data). The variance and range are very large which indicates a presence of outliers at the upper end of the distribution.\n",
    "\n",
    "There is a lot less variation in the \"Funding rounds\" and when observing the difference of measures of central tendency which suggests that the data may be less affected by outliers. The measures of spread also contain moderate levels of variance which indicate that the outliers are not as noticeable.\n"
   ]
  },
  {
   "cell_type": "markdown",
   "metadata": {},
   "source": [
    "### Outlier analysis"
   ]
  },
  {
   "cell_type": "code",
   "execution_count": 882,
   "metadata": {},
   "outputs": [
    {
     "name": "stdout",
     "output_type": "stream",
     "text": [
      "Funding USD Cutoff Values:\n",
      "\tLower Bound: -10103850.125\n",
      "\tUpper Bound: 16946416.875\n",
      "Funding Rounds Cutoff Values:\n",
      "\tLower Bound: -0.5\n",
      "\tUpper Bound: 3.5\n"
     ]
    }
   ],
   "source": [
    "print(\"Funding USD Cutoff Values:\")\n",
    "print(\"\\tLower Bound:\", get_cutoff_value_lower(df['funding_total_usd'])) \n",
    "print(\"\\tUpper Bound:\", get_cutoff_value_upper(df['funding_total_usd'])) \n",
    "\n",
    "print(\"Funding Rounds Cutoff Values:\")\n",
    "print(\"\\tLower Bound:\", get_cutoff_value_lower(df['funding_rounds'])) \n",
    "print(\"\\tUpper Bound:\", get_cutoff_value_upper(df['funding_rounds'])) "
   ]
  },
  {
   "cell_type": "markdown",
   "metadata": {},
   "source": [
    "#### Dropping outliers..."
   ]
  },
  {
   "cell_type": "code",
   "execution_count": 883,
   "metadata": {},
   "outputs": [
    {
     "name": "stdout",
     "output_type": "stream",
     "text": [
      "Funding USD Central Tendency & Spread Values:\n",
      "\tMean: 2296085.22\n",
      "\tMedian: 500000.00\n",
      "\tMode: 0.00\n",
      "\tRange: 16940000.00\n",
      "\tVariance: 13653619317206.98\n",
      "\tStandard Deviation: 3695080.42\n",
      "Funding Rounds Central Tendency & Spread Values:\n",
      "\tMean: 1.39\n",
      "\tMedian: 1.00\n",
      "\tMode: 1.00\n",
      "\tRange: 2.00\n",
      "\tVariance: 0.42\n",
      "\tStandard Deviation: 0.65\n"
     ]
    }
   ],
   "source": [
    "print(\"Funding USD Central Tendency & Spread Values:\")\n",
    "dropped_outliers_df = drop_outliers(df, 'funding_total_usd')\n",
    "central_tendency(dropped_outliers_df['funding_total_usd'])\n",
    "measures_of_spread(dropped_outliers_df['funding_total_usd'])\n",
    "\n",
    "print(\"Funding Rounds Central Tendency & Spread Values:\")\n",
    "dropped_outliers_df = drop_outliers(df, 'funding_rounds')\n",
    "central_tendency(dropped_outliers_df['funding_rounds'])\n",
    "measures_of_spread(dropped_outliers_df['funding_rounds'])"
   ]
  },
  {
   "cell_type": "markdown",
   "metadata": {},
   "source": [
    "By simply dropping the outliers, the variance and standard deviation have significantly dropped therefore we can confirm a high presence of outliers. By removing them, the results should be a lot less skewed but there could be a potentially high loss of data following this method."
   ]
  },
  {
   "cell_type": "markdown",
   "metadata": {},
   "source": [
    "##### Imputing the outliers..."
   ]
  },
  {
   "cell_type": "code",
   "execution_count": 884,
   "metadata": {},
   "outputs": [
    {
     "name": "stdout",
     "output_type": "stream",
     "text": [
      "Funding USD Central Tendency & Spread Values:\n",
      "\tMean: 11016818.26\n",
      "\tMedian: 1000000.00\n",
      "\tMode: 0.00\n",
      "\tRange: 515000000.00\n",
      "\tVariance: 1139344002905151.25\n",
      "\tStandard Deviation: 33754170.16\n",
      "Funding USD Central Tendency & Spread Values:\n",
      "\tMean: 1.59\n",
      "\tMedian: 1.00\n",
      "\tMode: 1.00\n",
      "\tRange: 4.00\n",
      "\tVariance: 0.92\n",
      "\tStandard Deviation: 0.96\n"
     ]
    }
   ],
   "source": [
    "print(\"Funding USD Central Tendency & Spread Values:\")\n",
    "df_impute = impute_outliers(df, 'funding_total_usd')\n",
    "central_tendency(df_impute['funding_total_usd'])\n",
    "measures_of_spread(df_impute['funding_total_usd'])\n",
    "\n",
    "print(\"Funding USD Central Tendency & Spread Values:\")\n",
    "df_impute = impute_outliers(df, 'funding_rounds')\n",
    "central_tendency(df_impute['funding_rounds'])\n",
    "measures_of_spread(df_impute['funding_rounds'])"
   ]
  },
  {
   "cell_type": "markdown",
   "metadata": {},
   "source": [
    "This method varies quite a bit from the dropping method. It has a higher deviation and variance in general but is still much better than the original dataset that was not handling the outliers whatsoever."
   ]
  },
  {
   "cell_type": "markdown",
   "metadata": {},
   "source": [
    "#### Using the capping method"
   ]
  },
  {
   "cell_type": "code",
   "execution_count": 885,
   "metadata": {},
   "outputs": [
    {
     "name": "stdout",
     "output_type": "stream",
     "text": [
      "Funding USD Central Tendency & Spread Values:\n",
      "\tMean: 9293929.05\n",
      "\tMedian: 1000000.00\n",
      "\tMode: 0.00\n",
      "\tRange: 112279328.73\n",
      "\tVariance: 449918870459192.19\n",
      "\tStandard Deviation: 21211291.11\n",
      "Funding USD Central Tendency & Spread Values:\n",
      "\tMean: 1.57\n",
      "\tMedian: 1.00\n",
      "\tMode: 1.00\n",
      "\tRange: 3.46\n",
      "\tVariance: 0.84\n",
      "\tStandard Deviation: 0.92\n"
     ]
    }
   ],
   "source": [
    "print(\"Funding USD Central Tendency & Spread Values:\")\n",
    "capping_method_df = capping_method(df, 'funding_total_usd')\n",
    "central_tendency(capping_method_df)\n",
    "measures_of_spread(capping_method_df)\n",
    "\n",
    "#print(\"Funding Rounds Central Tendency & Spread Values:\")\n",
    "print(\"Funding USD Central Tendency & Spread Values:\")\n",
    "capping_method_df = capping_method(df, 'funding_rounds')\n",
    "central_tendency(capping_method_df)\n",
    "measures_of_spread(capping_method_df)"
   ]
  },
  {
   "cell_type": "markdown",
   "metadata": {},
   "source": [
    "We can see that each method provides different values of central tendency and measures of spread but there is little difference between different methods once we have dealt with outliers, no matter in which any way. It seems what is important is to first notice that there are outliers and then deal them in whichever way is best depending on the dataset and variance observed."
   ]
  },
  {
   "cell_type": "markdown",
   "metadata": {},
   "source": [
    "### Sampling Techniques\n",
    "Let's drop all outliers and draw a random sample of 1000 for each variable and see the results."
   ]
  },
  {
   "cell_type": "code",
   "execution_count": 886,
   "metadata": {},
   "outputs": [
    {
     "name": "stdout",
     "output_type": "stream",
     "text": [
      "\tMean: 2440255.19\n",
      "\tMedian: 486587.00\n",
      "\tMode: 0.00\n",
      "\tRange: 16593715.00\n",
      "\tVariance: 14649564712376.54\n",
      "\tStandard Deviation: 3827474.98\n",
      "\tMean: 1.40\n",
      "\tMedian: 1.00\n",
      "\tMode: 1.00\n",
      "\tRange: 2.00\n",
      "\tVariance: 0.39\n",
      "\tStandard Deviation: 0.62\n"
     ]
    }
   ],
   "source": [
    "random_sample_df = drop_outliers(df, 'funding_total_usd').sample(n=1000) #random_state=42\n",
    "central_tendency(random_sample_df['funding_total_usd'])\n",
    "measures_of_spread(random_sample_df['funding_total_usd'])\n",
    "\n",
    "random_sample_df = drop_outliers(df, 'funding_rounds').sample(n=1000) #random_state=42\n",
    "central_tendency(random_sample_df['funding_rounds'])\n",
    "measures_of_spread(random_sample_df['funding_rounds'])"
   ]
  },
  {
   "cell_type": "markdown",
   "metadata": {},
   "source": [
    "We can see that depending on the sample selected we will get different results  but if we run the cell multiple times, the results dont vary more than 0.60-0.68 which indicates that the values tend to cluster around the mean. In other words, the data points are not widely scattered and are relatively close to the average value."
   ]
  },
  {
   "cell_type": "markdown",
   "metadata": {},
   "source": [
    "### Subsetting and Sampling\n",
    "We are getting only the companies based only in United States and sampling randomly for our observations."
   ]
  },
  {
   "cell_type": "code",
   "execution_count": 887,
   "metadata": {},
   "outputs": [
    {
     "name": "stdout",
     "output_type": "stream",
     "text": [
      "Funding USD Central Tendency & Spread Values for sample size  10 :\n",
      "\tMean: 3937148.37\n",
      "\tMedian: 2232500.00\n",
      "\tMode: 0.00\n",
      "\tRange: 16000000.00\n",
      "\tVariance: 18835851074140.92\n",
      "\tStandard Deviation: 4340028.93\n",
      "Funding USD Central Tendency & Spread Values for sample size  100 :\n",
      "\tMean: 2557812.72\n",
      "\tMedian: 1275000.00\n",
      "\tMode: 0.00\n",
      "\tRange: 12643228.00\n",
      "\tVariance: 12466503215036.92\n",
      "\tStandard Deviation: 3530793.57\n",
      "Funding USD Central Tendency & Spread Values for sample size  500 :\n",
      "\tMean: 1828514.45\n",
      "\tMedian: 600000.00\n",
      "\tMode: 0.00\n",
      "\tRange: 15599906.00\n",
      "\tVariance: 9435565629628.33\n",
      "\tStandard Deviation: 3071736.58\n",
      "Funding USD Central Tendency & Spread Values for sample size  1000 :\n",
      "\tMean: 2574940.85\n",
      "\tMedian: 560000.00\n",
      "\tMode: 0.00\n",
      "\tRange: 14000000.00\n",
      "\tVariance: 13759518123596.61\n",
      "\tStandard Deviation: 3709382.45\n"
     ]
    }
   ],
   "source": [
    "samples_sizes_to_test = [10, 100, 500, 1000]\n",
    "\n",
    "for size in samples_sizes_to_test:\n",
    "    random_sample_df = drop_outliers(df, 'funding_total_usd').sample(n=100)\n",
    "    usa_mask = random_sample_df['country_code'] == 'USA'\n",
    "    usa_df = random_sample_df[usa_mask]\n",
    "    print(\"Funding USD Central Tendency & Spread Values for sample size \", size, \":\")\n",
    "    central_tendency(usa_df['funding_total_usd'])\n",
    "    measures_of_spread(usa_df['funding_total_usd'])"
   ]
  },
  {
   "cell_type": "markdown",
   "metadata": {},
   "source": [
    "Sample size affects the statistics, such as mean and median, but the range remains consistent. The mode many times is is also consistent with 0.00, indicating that a significant number of data points have no recorded funding across all samples.\n",
    "\n",
    "In conclusion, the choice of sample size can significantly impact the summary statistics, and the presence of zero funding values can still significantly skew results in any sample."
   ]
  },
  {
   "cell_type": "markdown",
   "metadata": {},
   "source": [
    "### Subsetting, Sampling, Benchmarking and Visualisation:\n",
    "Now we are filtering only the companies based in each of the United States, Canada, France, Germany, China, India and South Korea. We will analyse the same dataset to find average number of days taken for a startup to be funded for each of the aforesaid countries and compare results"
   ]
  },
  {
   "cell_type": "code",
   "execution_count": 888,
   "metadata": {},
   "outputs": [
    {
     "name": "stdout",
     "output_type": "stream",
     "text": [
      "Measures of central tendency and spread 1000 :\n",
      "\tMean: 137.67\n",
      "\tMedian: 0.00\n",
      "\tMode: 0.00\n",
      "\tRange: 1047.00\n",
      "\tVariance: 73317.15\n",
      "\tStandard Deviation: 270.77\n"
     ]
    },
    {
     "name": "stderr",
     "output_type": "stream",
     "text": [
      "/var/folders/wv/f74f4dpn75v5cgd05yy1xcs80000gn/T/ipykernel_3926/2247427896.py:5: SettingWithCopyWarning: \n",
      "A value is trying to be set on a copy of a slice from a DataFrame.\n",
      "Try using .loc[row_indexer,col_indexer] = value instead\n",
      "\n",
      "See the caveats in the documentation: https://pandas.pydata.org/pandas-docs/stable/user_guide/indexing.html#returning-a-view-versus-a-copy\n",
      "  selected_countries_df['founded_to_first_funding_days'] = (selected_countries_df['last_funding_at'] - selected_countries_df['first_funding_at']).dt.days\n"
     ]
    },
    {
     "data": {
      "image/png": "[encoded data removed]",
      "text/plain": [
       "<Figure size 640x480 with 1 Axes>"
      ]
     },
     "metadata": {},
     "output_type": "display_data"
    }
   ],
   "source": [
    "selected_countries = ['USA', 'CAN', 'FRA', 'DEU', 'CHN', 'IND', 'KOR']\n",
    "random_sample_df = drop_outliers(dropped_outliers_df, 'funding_total_usd').sample(n=100)\n",
    "selected_countries_mask = random_sample_df['country_code'].isin(selected_countries)\n",
    "selected_countries_df = random_sample_df[selected_countries_mask]\n",
    "selected_countries_df['founded_to_first_funding_days'] = (selected_countries_df['last_funding_at'] - selected_countries_df['first_funding_at']).dt.days\n",
    "print(\"Measures of central tendency and spread\", size, \":\")\n",
    "central_tendency(selected_countries_df['founded_to_first_funding_days'])\n",
    "measures_of_spread(selected_countries_df['founded_to_first_funding_days'])\n",
    "\n",
    "selected_countries_df.groupby('country_code')['founded_to_first_funding_days'].mean().astype(int).plot(kind='bar')\n",
    "sns.set(style='whitegrid')\n",
    "plt.title('Average Days Taken to be Funded per Country')\n",
    "plt.xlabel('Country Code')\n",
    "plt.ylabel('Average Days')\n",
    "plt.xticks(rotation=0)\n",
    "plt.show()"
   ]
  },
  {
   "cell_type": "markdown",
   "metadata": {},
   "source": [
    "We can see that the average number of days taken for a startup to be funded will depend entirely on the sample selected. Sometimes some countries are not selected therefore the data should not be considered as this will show as 0 days. It is important to consider this use-case when analysing either by deleting the country in question or making sure to tell analysts that the country in question was not analysed in the sample. We can also consider instead another sampling method, we can force each country to have a specific sample lets say 50 per country in order to avoid nulls later on. This would potentially solve our sampling issue and still keep the dataset random."
   ]
  },
  {
   "cell_type": "markdown",
   "metadata": {},
   "source": [
    "### Probability Theory: \n",
    "Find the probability for startups of being funded within the first 6 months since their creation for the overall dataset and then repeat the same sequence of procedures for the countries United States, Canada, France, Germany, China, and India (While making necessary computations, assume that there are 30 days in each month at an average). Report your results in writing and compare them varying across various geographies. Create appropriate plots (if necessary) to draw conclusions if necessary."
   ]
  },
  {
   "cell_type": "code",
   "execution_count": 922,
   "metadata": {},
   "outputs": [
    {
     "name": "stdout",
     "output_type": "stream",
     "text": [
      "Probability for startups of being funded within the first 6 months:\n",
      "0         True\n",
      "1        False\n",
      "2         True\n",
      "3         True\n",
      "4         True\n",
      "         ...  \n",
      "66363     True\n",
      "66364    False\n",
      "66365     True\n",
      "66366     True\n",
      "66367     True\n",
      "Name: months_to_funding, Length: 56838, dtype: bool\n",
      "Probability for USA: 100.00%\n",
      "Probability for CAN: 100.00%\n",
      "Probability for FRA: 100.00%\n",
      "Probability for DEU: 100.00%\n",
      "Probability for CHN: 100.00%\n",
      "Probability for IND: 100.00%\n"
     ]
    },
    {
     "name": "stderr",
     "output_type": "stream",
     "text": [
      "/var/folders/wv/f74f4dpn75v5cgd05yy1xcs80000gn/T/ipykernel_3926/2509347527.py:7: SettingWithCopyWarning: \n",
      "A value is trying to be set on a copy of a slice from a DataFrame.\n",
      "Try using .loc[row_indexer,col_indexer] = value instead\n",
      "\n",
      "See the caveats in the documentation: https://pandas.pydata.org/pandas-docs/stable/user_guide/indexing.html#returning-a-view-versus-a-copy\n",
      "  dropped_outliers_df['founded_at'] = pd.to_datetime(dropped_outliers_df['founded_at'])\n",
      "/var/folders/wv/f74f4dpn75v5cgd05yy1xcs80000gn/T/ipykernel_3926/2509347527.py:8: SettingWithCopyWarning: \n",
      "A value is trying to be set on a copy of a slice from a DataFrame.\n",
      "Try using .loc[row_indexer,col_indexer] = value instead\n",
      "\n",
      "See the caveats in the documentation: https://pandas.pydata.org/pandas-docs/stable/user_guide/indexing.html#returning-a-view-versus-a-copy\n",
      "  dropped_outliers_df['first_funding_at'] = pd.to_datetime(dropped_outliers_df['first_funding_at'])\n",
      "/var/folders/wv/f74f4dpn75v5cgd05yy1xcs80000gn/T/ipykernel_3926/2509347527.py:11: SettingWithCopyWarning: \n",
      "A value is trying to be set on a copy of a slice from a DataFrame.\n",
      "Try using .loc[row_indexer,col_indexer] = value instead\n",
      "\n",
      "See the caveats in the documentation: https://pandas.pydata.org/pandas-docs/stable/user_guide/indexing.html#returning-a-view-versus-a-copy\n",
      "  dropped_outliers_df['months_to_funding'] = (dropped_outliers_df['last_funding_at'] - dropped_outliers_df['first_funding_at']) / pd.Timedelta(days=30)\n"
     ]
    },
    {
     "data": {
      "text/plain": [
       "\"selected_countries = ['USA', 'CAN', 'FRA', 'DEU', 'CHN', 'IND']\\nselected_countries_mask = drop_outliers(dropped_outliers_df, 'funding_total_usd')['country_code'].isin(selected_countries)\\nselected_countries_df = drop_outliers(dropped_outliers_df, 'funding_total_usd')[selected_countries_mask]\\nselected_countries_df['founded_to_first_funding_days'] = (selected_countries_df['last_funding_at'] - selected_countries_df['first_funding_at']).dt.days\\n\\nselected_countries_df.groupby('country_code')['founded_to_first_funding_days'].mean().astype(int).plot(kind='bar')\\nsns.set(style='whitegrid')\\nplt.title('Average Days Taken to be Funded per Country')\\nplt.xlabel('Country Code')\\nplt.ylabel('Average Days')\\nplt.xticks(rotation=0)\\nplt.show()\""
      ]
     },
     "execution_count": 922,
     "metadata": {},
     "output_type": "execute_result"
    }
   ],
   "source": [
    "df['first_funding_at'] = pd.to_datetime(df['first_funding_at'], errors='coerce')\n",
    "df['last_funding_at'] = pd.to_datetime(df['last_funding_at'], errors='coerce')\n",
    "df.loc[:, 'founded_at'] = df['first_funding_at']\n",
    "\n",
    "print(\"Probability for startups of being funded within the first 6 months:\")\n",
    "dropped_outliers_df = drop_outliers(df, 'funding_total_usd')\n",
    "dropped_outliers_df['founded_at'] = pd.to_datetime(dropped_outliers_df['founded_at'])\n",
    "dropped_outliers_df['first_funding_at'] = pd.to_datetime(dropped_outliers_df['first_funding_at'])\n",
    "#dropped_outliers_df['months_to_funding'] = dropped_outliers_df['last_funding_at'] - dropped_outliers_df['first_funding_at']\n",
    "\n",
    "dropped_outliers_df['months_to_funding'] = (dropped_outliers_df['last_funding_at'] - dropped_outliers_df['first_funding_at']) / pd.Timedelta(days=30)\n",
    "within_6_months = (dropped_outliers_df['months_to_funding'] <= 6)\n",
    "print(within_6_months)\n",
    "\n",
    "# Calculate the probability for the overall dataset\n",
    "overall_probability = within_6_months.mean()\n",
    "\n",
    "\n",
    "# Repeat the process for each specified country\n",
    "countries = ['USA', 'CAN', 'FRA', 'DEU', 'CHN', 'IND']\n",
    "country_probabilities = {}\n",
    "\n",
    "for country in countries:\n",
    "    country_df = dropped_outliers_df[dropped_outliers_df['country_code'] == country]\n",
    "    country_probabilities[country] = (country_df['months_to_funding'] <= 6).mean()\n",
    "    print(\"Probability for {}: {:.2%}\".format(country, country_probability))\n",
    "\n",
    "overall_probability, country_probabilities\n",
    "\n",
    "\"\"\"# import necessary packages\n",
    "import numpy as np\n",
    "import pandas as pd\n",
    "import matplotlib.pyplot as plt\n",
    "import seaborn as sns\n",
    "\n",
    "print(\"Probability for startups of being funded within the first 6 months:\")\n",
    "dropped_outliers_df = drop_outliers(df, 'funding_total_usd')\n",
    "dropped_outliers_df['founded_at'] = pd.to_datetime(dropped_outliers_df['founded_at'])\n",
    "dropped_outliers_df['first_funding_at'] = pd.to_datetime(dropped_outliers_df['first_funding_at'])\n",
    "dropped_outliers_df['days_to_found'] = (dropped_outliers_df['first_funding_at'] - dropped_outliers_df['founded_at']).dt.days\n",
    "\n",
    "# 2. Determine whether each startup was funded within the first 6 months (180 days)\n",
    "dropped_outliers_df['funded_within_6_months'] = np.where(dropped_outliers_df['days_to_found'] <= 180, 1, 0)\n",
    "overall_probability = dropped_outliers_df['funded_within_6_months'].mean()\n",
    "\n",
    "print(overall_probability)\n",
    "\n",
    "# 4. Repeat the same procedure for specific countries\n",
    "countries = ['USA', 'CAN', 'FRA', 'DEU', 'CHN', 'IND']\n",
    "country_probabilities = {}\n",
    "\n",
    "for country in countries:\n",
    "    country_df = dropped_outliers_df[dropped_outliers_df['country_code'] == country]\n",
    "    country_probability = country_df['funded_within_6_months'].mean()\n",
    "    country_probabilities[country] = country_probability\n",
    "\n",
    "# Print the probabilities\n",
    "#print(\"Overall Probability (All Countries):\", overall_probability)\n",
    "#print(\"Country Probabilities:\")\n",
    "for country, probability in country_probabilities.items():\n",
    "    print(f\"{country}: {probability}\")\n",
    "\"\"\"\n",
    "\n",
    "\"\"\"selected_countries = ['USA', 'CAN', 'FRA', 'DEU', 'CHN', 'IND']\n",
    "selected_countries_mask = drop_outliers(dropped_outliers_df, 'funding_total_usd')['country_code'].isin(selected_countries)\n",
    "selected_countries_df = drop_outliers(dropped_outliers_df, 'funding_total_usd')[selected_countries_mask]\n",
    "selected_countries_df['founded_to_first_funding_days'] = (selected_countries_df['last_funding_at'] - selected_countries_df['first_funding_at']).dt.days\n",
    "\n",
    "selected_countries_df.groupby('country_code')['founded_to_first_funding_days'].mean().astype(int).plot(kind='bar')\n",
    "sns.set(style='whitegrid')\n",
    "plt.title('Average Days Taken to be Funded per Country')\n",
    "plt.xlabel('Country Code')\n",
    "plt.ylabel('Average Days')\n",
    "plt.xticks(rotation=0)\n",
    "plt.show()\"\"\""
   ]
  },
  {
   "cell_type": "markdown",
   "metadata": {},
   "source": [
    "### Advanced Probability Theory\n",
    "Find the probability for startups of being funded within the first 6 months given the fact that they are based on software domain and then repeat the same sequence of procedures for the countries United States, Canada, France, Germany, China, and India(Use the value ‘Software’ in the appropriate variable of your choice)."
   ]
  },
  {
   "cell_type": "code",
   "execution_count": 890,
   "metadata": {},
   "outputs": [
    {
     "name": "stdout",
     "output_type": "stream",
     "text": [
      "Q8\n"
     ]
    }
   ],
   "source": [
    "print(\"Q8\")"
   ]
  },
  {
   "cell_type": "markdown",
   "metadata": {},
   "source": [
    "### Advanced Probability Theory\n",
    "Find the probability that a startup belongs to health care domain given the fact that it was funded within the first 6 months and then repeat the same sequence of procedures for the countries United States, Canada, France, Germany, China, and India (Use the value ‘Health Care’ in the appropriate variable of your choice). Report your results based on probability found as a whole and then comparison across various countries.\n"
   ]
  },
  {
   "cell_type": "code",
   "execution_count": 891,
   "metadata": {},
   "outputs": [
    {
     "name": "stdout",
     "output_type": "stream",
     "text": [
      "Q9\n"
     ]
    }
   ],
   "source": [
    "print(\"Q9\")"
   ]
  },
  {
   "cell_type": "markdown",
   "metadata": {},
   "source": [
    "### Advanced Probability Theory\n",
    "Repeat the analysis in Question 8 but this time perform the operation by first sampling your dataset randomly by getting only 10 data points in the beginning and report your observations as that in Question 8. Next, attempt to repeat the aforesaid procedure for dataset of increasing sample size of 50, 100, 200, 300, 400, 500, 600, and 800. Plot the various probabilities observed against the number of data points you have obtained and write in your own words the observations. "
   ]
  },
  {
   "cell_type": "code",
   "execution_count": 892,
   "metadata": {},
   "outputs": [
    {
     "name": "stdout",
     "output_type": "stream",
     "text": [
      "Q10\n"
     ]
    }
   ],
   "source": [
    "print(\"Q10\")"
   ]
  }
 ],
 "metadata": {
  "kernelspec": {
   "display_name": "Python 3",
   "language": "python",
   "name": "python3"
  },
  "language_info": {
   "codemirror_mode": {
    "name": "ipython",
    "version": 3
   },
   "file_extension": ".py",
   "mimetype": "text/x-python",
   "name": "python",
   "nbconvert_exporter": "python",
   "pygments_lexer": "ipython3",
   "version": "3.10.1"
  }
 },
 "nbformat": 4,
 "nbformat_minor": 2
}
