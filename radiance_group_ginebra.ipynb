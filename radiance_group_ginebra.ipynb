{
 "cells": [
  {
   "cell_type": "markdown",
   "metadata": {},
   "source": [
    "<h1 style=\"text-align: center;\">Assignment 1: Radiance Group Consulting</h1>\n",
    "<h3 style=\"text-align: center;\">Elena Ginebra</h3>"
   ]
  },
  {
   "cell_type": "markdown",
   "metadata": {},
   "source": [
    "Library imports"
   ]
  },
  {
   "cell_type": "code",
   "execution_count": 581,
   "metadata": {},
   "outputs": [],
   "source": [
    "# import necessary packages\n",
    "import numpy as np\n",
    "import pandas as pd\n",
    "import matplotlib.pyplot as plt\n",
    "import seaborn as sns\n",
    "from prettytable import PrettyTable"
   ]
  },
  {
   "cell_type": "markdown",
   "metadata": {},
   "source": [
    "### Function definition"
   ]
  },
  {
   "cell_type": "code",
   "execution_count": 582,
   "metadata": {},
   "outputs": [],
   "source": [
    "# Calculate measures of central tendency\n",
    "def central_tendency(col):\n",
    "    table = PrettyTable()\n",
    "    table.field_names = [\"Mean\", \"Median\", \"Mode\"]\n",
    "    table.add_row([f\"{col.mean():.2f}\", f\"{col.median():.2f}\", f\"{col.mode().values[0]:.2f}\"])\n",
    "    print(table)\n",
    " \n",
    "\n",
    "# Calculate measures of spread\n",
    "def measures_of_spread(col):\n",
    "    table = PrettyTable()\n",
    "    table.field_names = [\"Range\", \"Variance\", \"Standard Deviation\"]\n",
    "    table.add_row([f\"{col.max() - col.min():.2f}\", f\"{col.var():.2f}\", f\"{col.std():.2f}\"])\n",
    "    print(table)\n",
    "\n",
    "# Get outliers lower bound\n",
    "def get_cutoff_value_lower(col):\n",
    "    IQR = col.quantile(0.75) - col.quantile(0.25)\n",
    "    lower_bound_total_funding = col.quantile(0.25) - 1.5 * IQR\n",
    "    return float(lower_bound_total_funding)\n",
    "\n",
    "# Get outliers upper bound\n",
    "def get_cutoff_value_upper(col):\n",
    "    IQR = col.quantile(0.75) - col.quantile(0.25)\n",
    "    upper_bound_total_funding = col.quantile(0.75) + 1.5 * IQR\n",
    "    return float(upper_bound_total_funding)\n",
    "\n",
    "# Drop outliers\n",
    "def drop_outliers(col, key):\n",
    "    mask = (col[key] >= get_cutoff_value_lower(col[key])) & (col[key] <= get_cutoff_value_upper(col[key]))\n",
    "    return col[mask]\n",
    "\n",
    "# Capping method\n",
    "def capping_method(df, col):\n",
    "    max_value = df[col].mean() + (3 * df[col].std())\n",
    "    min_value = df[col].mean() - (3 * df[col].std())\n",
    "    return df[col].clip(lower=min_value, upper=max_value)\n",
    "\n",
    "# Imputing outliers with mean\n",
    "def impute_outliers(df, column_name):\n",
    "    mean = df[column_name].mean()\n",
    "    std = df[column_name].std()\n",
    "    z_score_threshold = 3.0\n",
    "    is_outlier = (df[column_name] - mean).abs() > z_score_threshold * std\n",
    "    df.loc[is_outlier, column_name] = mean\n",
    "    return df"
   ]
  },
  {
   "cell_type": "markdown",
   "metadata": {},
   "source": [
    "Cleaning data import values for nulls, errors and column types"
   ]
  },
  {
   "cell_type": "code",
   "execution_count": 583,
   "metadata": {},
   "outputs": [
    {
     "data": {
      "text/html": [
       "<div>\n",
       "<style scoped>\n",
       "    .dataframe tbody tr th:only-of-type {\n",
       "        vertical-align: middle;\n",
       "    }\n",
       "\n",
       "    .dataframe tbody tr th {\n",
       "        vertical-align: top;\n",
       "    }\n",
       "\n",
       "    .dataframe thead th {\n",
       "        text-align: right;\n",
       "    }\n",
       "</style>\n",
       "<table border=\"1\" class=\"dataframe\">\n",
       "  <thead>\n",
       "    <tr style=\"text-align: right;\">\n",
       "      <th></th>\n",
       "      <th>permalink</th>\n",
       "      <th>name</th>\n",
       "      <th>homepage_url</th>\n",
       "      <th>category_list</th>\n",
       "      <th>funding_total_usd</th>\n",
       "      <th>status</th>\n",
       "      <th>country_code</th>\n",
       "      <th>state_code</th>\n",
       "      <th>region</th>\n",
       "      <th>city</th>\n",
       "      <th>funding_rounds</th>\n",
       "      <th>founded_at</th>\n",
       "      <th>first_funding_at</th>\n",
       "      <th>last_funding_at</th>\n",
       "    </tr>\n",
       "  </thead>\n",
       "  <tbody>\n",
       "    <tr>\n",
       "      <th>0</th>\n",
       "      <td>/organization/-fame</td>\n",
       "      <td>#fame</td>\n",
       "      <td>http://livfame.com</td>\n",
       "      <td>Media</td>\n",
       "      <td>10000000</td>\n",
       "      <td>operating</td>\n",
       "      <td>IND</td>\n",
       "      <td>16</td>\n",
       "      <td>Mumbai</td>\n",
       "      <td>Mumbai</td>\n",
       "      <td>1</td>\n",
       "      <td>NaN</td>\n",
       "      <td>2015-01-05</td>\n",
       "      <td>2015-01-05</td>\n",
       "    </tr>\n",
       "    <tr>\n",
       "      <th>1</th>\n",
       "      <td>/organization/-qounter</td>\n",
       "      <td>:Qounter</td>\n",
       "      <td>http://www.qounter.com</td>\n",
       "      <td>Application Platforms|Real Time|Social Network...</td>\n",
       "      <td>700000</td>\n",
       "      <td>operating</td>\n",
       "      <td>USA</td>\n",
       "      <td>DE</td>\n",
       "      <td>DE - Other</td>\n",
       "      <td>Delaware City</td>\n",
       "      <td>2</td>\n",
       "      <td>2014-09-04</td>\n",
       "      <td>2014-03-01</td>\n",
       "      <td>2014-10-14</td>\n",
       "    </tr>\n",
       "    <tr>\n",
       "      <th>2</th>\n",
       "      <td>/organization/-the-one-of-them-inc-</td>\n",
       "      <td>(THE) ONE of THEM,Inc.</td>\n",
       "      <td>http://oneofthem.jp</td>\n",
       "      <td>Apps|Games|Mobile</td>\n",
       "      <td>3406878</td>\n",
       "      <td>operating</td>\n",
       "      <td>NaN</td>\n",
       "      <td>NaN</td>\n",
       "      <td>NaN</td>\n",
       "      <td>NaN</td>\n",
       "      <td>1</td>\n",
       "      <td>NaN</td>\n",
       "      <td>2014-01-30</td>\n",
       "      <td>2014-01-30</td>\n",
       "    </tr>\n",
       "  </tbody>\n",
       "</table>\n",
       "</div>"
      ],
      "text/plain": [
       "                             permalink                    name  \\\n",
       "0                  /organization/-fame                   #fame   \n",
       "1               /organization/-qounter                :Qounter   \n",
       "2  /organization/-the-one-of-them-inc-  (THE) ONE of THEM,Inc.   \n",
       "\n",
       "             homepage_url                                      category_list  \\\n",
       "0      http://livfame.com                                              Media   \n",
       "1  http://www.qounter.com  Application Platforms|Real Time|Social Network...   \n",
       "2     http://oneofthem.jp                                  Apps|Games|Mobile   \n",
       "\n",
       "  funding_total_usd     status country_code state_code      region  \\\n",
       "0          10000000  operating          IND         16      Mumbai   \n",
       "1            700000  operating          USA         DE  DE - Other   \n",
       "2           3406878  operating          NaN        NaN         NaN   \n",
       "\n",
       "            city  funding_rounds  founded_at first_funding_at last_funding_at  \n",
       "0         Mumbai               1         NaN       2015-01-05      2015-01-05  \n",
       "1  Delaware City               2  2014-09-04       2014-03-01      2014-10-14  \n",
       "2            NaN               1         NaN       2014-01-30      2014-01-30  "
      ]
     },
     "execution_count": 583,
     "metadata": {},
     "output_type": "execute_result"
    }
   ],
   "source": [
    "# import dataset\n",
    "df = pd.read_csv('https://raw.githubusercontent.com/notpeter/crunchbase-data/master/companies.csv')\n",
    "df.head(3)"
   ]
  },
  {
   "cell_type": "markdown",
   "metadata": {},
   "source": [
    "Actions taken on the original dataset for cleaning:\n",
    "- Replacing nulls for costs and changing to 0\n",
    "- Editing columns data type for ease of handling\n",
    "- Parsing date columns"
   ]
  },
  {
   "cell_type": "code",
   "execution_count": 584,
   "metadata": {},
   "outputs": [],
   "source": [
    "df['funding_total_usd'] = df['funding_total_usd'].replace('-', np.nan)\n",
    "df['funding_total_usd'].fillna(0, inplace=True)\n",
    "df.dropna(subset=['name'], inplace=True)\n",
    "df['funding_total_usd'] = df['funding_total_usd'].astype(float)\n",
    "df['funding_rounds'] = df['funding_rounds'].astype(float)\n",
    "df['first_funding_at'] = pd.to_datetime(df['first_funding_at'], errors='coerce')\n",
    "df['last_funding_at'] = pd.to_datetime(df['last_funding_at'], errors='coerce')\n",
    "df.loc[:, 'founded_at'] = df['first_funding_at']\n",
    "df = df.dropna(subset=['first_funding_at', 'last_funding_at'])"
   ]
  },
  {
   "cell_type": "markdown",
   "metadata": {},
   "source": [
    "### Measuring Central Tendency and Spread"
   ]
  },
  {
   "cell_type": "markdown",
   "metadata": {},
   "source": [
    "Calculating measures of central tendency and spread for a startup..."
   ]
  },
  {
   "cell_type": "code",
   "execution_count": 585,
   "metadata": {},
   "outputs": [
    {
     "name": "stdout",
     "output_type": "stream",
     "text": [
      "Total Funding Raised:\n",
      "+-------------+------------+------+\n",
      "|     Mean    |   Median   | Mode |\n",
      "+-------------+------------+------+\n",
      "| 14923495.81 | 1000000.00 | 0.00 |\n",
      "+-------------+------------+------+\n",
      "+----------------+----------------------+--------------------+\n",
      "|     Range      |       Variance       | Standard Deviation |\n",
      "+----------------+----------------------+--------------------+\n",
      "| 30079503000.00 | 28604425623420144.00 |    169128429.38    |\n",
      "+----------------+----------------------+--------------------+\n",
      "\n",
      "Number of Funding Rounds:\n",
      "+------+--------+------+\n",
      "| Mean | Median | Mode |\n",
      "+------+--------+------+\n",
      "| 1.73 |  1.00  | 1.00 |\n",
      "+------+--------+------+\n",
      "+-------+----------+--------------------+\n",
      "| Range | Variance | Standard Deviation |\n",
      "+-------+----------+--------------------+\n",
      "| 18.00 |   1.85   |        1.36        |\n",
      "+-------+----------+--------------------+\n"
     ]
    }
   ],
   "source": [
    "print(\"Total Funding Raised:\")\n",
    "central_tendency(df['funding_total_usd'])\n",
    "measures_of_spread(df['funding_total_usd'])\n",
    "\n",
    "print(\"\\nNumber of Funding Rounds:\")\n",
    "central_tendency(df['funding_rounds'])\n",
    "measures_of_spread(df['funding_rounds'])"
   ]
  },
  {
   "cell_type": "markdown",
   "metadata": {},
   "source": [
    "For \"Total Funding Raised\" the average funding raised by startups is $14,919,146 USD with an average of 1.7 rounds of funding per startup but it is highly likely that some startups have received exceptionally large funding amounts, which significantly skews the distribution. The mean is much higher than the median, indicating the presence of high-value outliers because probably few startups have received exceptionally large amounts of funding. The mode proves this too because there are many startups with 0 funding (but can also be due to missing data). The variance and range are very large which indicates a presence of outliers at the upper end of the distribution.\n",
    "\n",
    "There is a lot less variation in the \"Funding rounds\" and when observing the difference of measures of central tendency which suggests that the data may be less affected by outliers. The measures of spread also contain moderate levels of variance which indicate that the outliers are not as noticeable.\n"
   ]
  },
  {
   "cell_type": "markdown",
   "metadata": {},
   "source": [
    "### Outlier analysis"
   ]
  },
  {
   "cell_type": "code",
   "execution_count": 586,
   "metadata": {},
   "outputs": [
    {
     "name": "stdout",
     "output_type": "stream",
     "text": [
      "Funding USD Cutoff Values:\n",
      "\tLower Bound: -10103850.125\n",
      "\tUpper Bound: 16946416.875\n",
      "Funding Rounds Cutoff Values:\n",
      "\tLower Bound: -0.5\n",
      "\tUpper Bound: 3.5\n"
     ]
    }
   ],
   "source": [
    "print(\"Funding USD Cutoff Values:\")\n",
    "print(\"\\tLower Bound:\", get_cutoff_value_lower(df['funding_total_usd'])) \n",
    "print(\"\\tUpper Bound:\", get_cutoff_value_upper(df['funding_total_usd'])) \n",
    "\n",
    "print(\"Funding Rounds Cutoff Values:\")\n",
    "print(\"\\tLower Bound:\", get_cutoff_value_lower(df['funding_rounds'])) \n",
    "print(\"\\tUpper Bound:\", get_cutoff_value_upper(df['funding_rounds'])) "
   ]
  },
  {
   "cell_type": "markdown",
   "metadata": {},
   "source": [
    "The lower bounds have a negative value for both variables which doesn't make sense because you can't have less than zero funding rounds. It's likely a bug from the data processing therefore should be interpreted as 0. The upper bound is positive which is ok. For example, if a company has more than 3 or maybe 4 funding rounds, it's kind of unusual compared to most companies in our data."
   ]
  },
  {
   "cell_type": "markdown",
   "metadata": {},
   "source": [
    "#### Dropping outliers..."
   ]
  },
  {
   "cell_type": "code",
   "execution_count": 587,
   "metadata": {},
   "outputs": [
    {
     "name": "stdout",
     "output_type": "stream",
     "text": [
      "Funding USD Central Tendency & Spread Values:\n",
      "+------------+-----------+------+\n",
      "|    Mean    |   Median  | Mode |\n",
      "+------------+-----------+------+\n",
      "| 2296085.22 | 500000.00 | 0.00 |\n",
      "+------------+-----------+------+\n",
      "+-------------+-------------------+--------------------+\n",
      "|    Range    |      Variance     | Standard Deviation |\n",
      "+-------------+-------------------+--------------------+\n",
      "| 16940000.00 | 13653619317206.98 |     3695080.42     |\n",
      "+-------------+-------------------+--------------------+\n",
      "Funding Rounds Central Tendency & Spread Values:\n",
      "+------+--------+------+\n",
      "| Mean | Median | Mode |\n",
      "+------+--------+------+\n",
      "| 1.39 |  1.00  | 1.00 |\n",
      "+------+--------+------+\n",
      "+-------+----------+--------------------+\n",
      "| Range | Variance | Standard Deviation |\n",
      "+-------+----------+--------------------+\n",
      "|  2.00 |   0.42   |        0.65        |\n",
      "+-------+----------+--------------------+\n"
     ]
    }
   ],
   "source": [
    "print(\"Funding USD Central Tendency & Spread Values:\")\n",
    "dropped_outliers_df = drop_outliers(df, 'funding_total_usd')\n",
    "central_tendency(dropped_outliers_df['funding_total_usd'])\n",
    "measures_of_spread(dropped_outliers_df['funding_total_usd'])\n",
    "\n",
    "print(\"Funding Rounds Central Tendency & Spread Values:\")\n",
    "dropped_outliers_df = drop_outliers(df, 'funding_rounds')\n",
    "central_tendency(dropped_outliers_df['funding_rounds'])\n",
    "measures_of_spread(dropped_outliers_df['funding_rounds'])"
   ]
  },
  {
   "cell_type": "markdown",
   "metadata": {},
   "source": [
    "By simply dropping the outliers, the variance and standard deviation have significantly dropped therefore we can confirm a high presence of outliers. By removing them, the results should be a lot less skewed but there could be a potentially high loss of data following this method."
   ]
  },
  {
   "cell_type": "markdown",
   "metadata": {},
   "source": [
    "##### Imputing the outliers..."
   ]
  },
  {
   "cell_type": "code",
   "execution_count": 588,
   "metadata": {},
   "outputs": [
    {
     "name": "stdout",
     "output_type": "stream",
     "text": [
      "Funding USD Central Tendency & Spread Values:\n",
      "+-------------+------------+------+\n",
      "|     Mean    |   Median   | Mode |\n",
      "+-------------+------------+------+\n",
      "| 11016818.26 | 1000000.00 | 0.00 |\n",
      "+-------------+------------+------+\n",
      "+--------------+---------------------+--------------------+\n",
      "|    Range     |       Variance      | Standard Deviation |\n",
      "+--------------+---------------------+--------------------+\n",
      "| 515000000.00 | 1139344002905151.25 |    33754170.16     |\n",
      "+--------------+---------------------+--------------------+\n",
      "Funding Rounds Central Tendency & Spread Values:\n",
      "+------+--------+------+\n",
      "| Mean | Median | Mode |\n",
      "+------+--------+------+\n",
      "| 1.59 |  1.00  | 1.00 |\n",
      "+------+--------+------+\n",
      "+-------+----------+--------------------+\n",
      "| Range | Variance | Standard Deviation |\n",
      "+-------+----------+--------------------+\n",
      "|  4.00 |   0.92   |        0.96        |\n",
      "+-------+----------+--------------------+\n"
     ]
    }
   ],
   "source": [
    "print(\"Funding USD Central Tendency & Spread Values:\")\n",
    "df_impute = impute_outliers(df, 'funding_total_usd')\n",
    "central_tendency(df_impute['funding_total_usd'])\n",
    "measures_of_spread(df_impute['funding_total_usd'])\n",
    "\n",
    "print(\"Funding Rounds Central Tendency & Spread Values:\")\n",
    "df_impute = impute_outliers(df, 'funding_rounds')\n",
    "central_tendency(df_impute['funding_rounds'])\n",
    "measures_of_spread(df_impute['funding_rounds'])"
   ]
  },
  {
   "cell_type": "markdown",
   "metadata": {},
   "source": [
    "This method varies quite a bit from the dropping method. It has a higher deviation and variance in general but is still much better than the original dataset that was not handling the outliers whatsoever."
   ]
  },
  {
   "cell_type": "markdown",
   "metadata": {},
   "source": [
    "#### Using the capping method"
   ]
  },
  {
   "cell_type": "code",
   "execution_count": 589,
   "metadata": {},
   "outputs": [
    {
     "name": "stdout",
     "output_type": "stream",
     "text": [
      "Funding USD Central Tendency & Spread Values:\n",
      "+------------+------------+------+\n",
      "|    Mean    |   Median   | Mode |\n",
      "+------------+------------+------+\n",
      "| 9293929.05 | 1000000.00 | 0.00 |\n",
      "+------------+------------+------+\n",
      "+--------------+--------------------+--------------------+\n",
      "|    Range     |      Variance      | Standard Deviation |\n",
      "+--------------+--------------------+--------------------+\n",
      "| 112279328.73 | 449918870459192.19 |    21211291.11     |\n",
      "+--------------+--------------------+--------------------+\n",
      "Funding Rounds Central Tendency & Spread Values:\n",
      "+------+--------+------+\n",
      "| Mean | Median | Mode |\n",
      "+------+--------+------+\n",
      "| 1.57 |  1.00  | 1.00 |\n",
      "+------+--------+------+\n",
      "+-------+----------+--------------------+\n",
      "| Range | Variance | Standard Deviation |\n",
      "+-------+----------+--------------------+\n",
      "|  3.46 |   0.84   |        0.92        |\n",
      "+-------+----------+--------------------+\n"
     ]
    }
   ],
   "source": [
    "print(\"Funding USD Central Tendency & Spread Values:\")\n",
    "capping_method_df = capping_method(df, 'funding_total_usd')\n",
    "central_tendency(capping_method_df)\n",
    "measures_of_spread(capping_method_df)\n",
    "\n",
    "print(\"Funding Rounds Central Tendency & Spread Values:\")\n",
    "capping_method_df = capping_method(df, 'funding_rounds')\n",
    "central_tendency(capping_method_df)\n",
    "measures_of_spread(capping_method_df)"
   ]
  },
  {
   "cell_type": "markdown",
   "metadata": {},
   "source": [
    "We can see that each method provides different values of central tendency and measures of spread but there is little difference between different methods once we have dealt with outliers, no matter in which any way. It seems what is important is to first notice that there are outliers and then deal them in whichever way is best depending on the dataset and variance observed."
   ]
  },
  {
   "cell_type": "markdown",
   "metadata": {},
   "source": [
    "### Sampling Techniques\n",
    "Let's drop all outliers and draw a random sample of 1000 for each variable and see the results."
   ]
  },
  {
   "cell_type": "code",
   "execution_count": 590,
   "metadata": {},
   "outputs": [
    {
     "name": "stdout",
     "output_type": "stream",
     "text": [
      "Funding USD (random):\n",
      "+------------+-----------+------+\n",
      "|    Mean    |   Median  | Mode |\n",
      "+------------+-----------+------+\n",
      "| 2562306.53 | 551000.00 | 0.00 |\n",
      "+------------+-----------+------+\n",
      "+-------------+-------------------+--------------------+\n",
      "|    Range    |      Variance     | Standard Deviation |\n",
      "+-------------+-------------------+--------------------+\n",
      "| 16800000.00 | 15606992653965.70 |     3950568.65     |\n",
      "+-------------+-------------------+--------------------+\n",
      "Funding Rounds (random):\n",
      "+------+--------+------+\n",
      "| Mean | Median | Mode |\n",
      "+------+--------+------+\n",
      "| 1.42 |  1.00  | 1.00 |\n",
      "+------+--------+------+\n",
      "+-------+----------+--------------------+\n",
      "| Range | Variance | Standard Deviation |\n",
      "+-------+----------+--------------------+\n",
      "|  4.00 |   0.59   |        0.77        |\n",
      "+-------+----------+--------------------+\n"
     ]
    }
   ],
   "source": [
    "random_sample_df = drop_outliers(df, 'funding_total_usd').sample(n=1000)\n",
    "\n",
    "print(\"Funding USD (random):\")\n",
    "central_tendency(random_sample_df['funding_total_usd'])\n",
    "measures_of_spread(random_sample_df['funding_total_usd'])\n",
    "\n",
    "print(\"Funding Rounds (random):\")\n",
    "central_tendency(random_sample_df['funding_rounds'])\n",
    "measures_of_spread(random_sample_df['funding_rounds'])"
   ]
  },
  {
   "cell_type": "markdown",
   "metadata": {},
   "source": [
    "We can see that depending on the sample selected we will get different results  but if we run the cell multiple times, the results dont vary more than 10% which indicates that the values tend to cluster around the mean. In other words, the data points are not widely scattered and are relatively close to the average value. We still have a mode of 0.00 in our sample meaning that a high number of companies have not received any funding whatsoever and this is reflected in the samples too."
   ]
  },
  {
   "cell_type": "markdown",
   "metadata": {},
   "source": [
    "### Subsetting and Sampling\n",
    "We are getting only the companies based only in United States and sampling randomly for our observations."
   ]
  },
  {
   "cell_type": "code",
   "execution_count": 591,
   "metadata": {},
   "outputs": [
    {
     "name": "stdout",
     "output_type": "stream",
     "text": [
      "Funding USD Central Tendency & Spread Values for sample size  10 :\n",
      "+------------+------------+------+\n",
      "|    Mean    |   Median   | Mode |\n",
      "+------------+------------+------+\n",
      "| 3411839.84 | 2000000.00 | 0.00 |\n",
      "+------------+------------+------+\n",
      "+-------------+-------------------+--------------------+\n",
      "|    Range    |      Variance     | Standard Deviation |\n",
      "+-------------+-------------------+--------------------+\n",
      "| 16750000.00 | 18418618995163.35 |     4291691.86     |\n",
      "+-------------+-------------------+--------------------+\n",
      "\n",
      "\n",
      "Funding USD Central Tendency & Spread Values for sample size  100 :\n",
      "+------------+-----------+------+\n",
      "|    Mean    |   Median  | Mode |\n",
      "+------------+-----------+------+\n",
      "| 3056640.20 | 932150.00 | 0.00 |\n",
      "+------------+-----------+------+\n",
      "+-------------+-------------------+--------------------+\n",
      "|    Range    |      Variance     | Standard Deviation |\n",
      "+-------------+-------------------+--------------------+\n",
      "| 16037067.00 | 20856351378589.99 |     4566875.45     |\n",
      "+-------------+-------------------+--------------------+\n",
      "\n",
      "\n",
      "Funding USD Central Tendency & Spread Values for sample size  500 :\n",
      "+------------+-----------+------+\n",
      "|    Mean    |   Median  | Mode |\n",
      "+------------+-----------+------+\n",
      "| 1960133.78 | 475000.00 | 0.00 |\n",
      "+------------+-----------+------+\n",
      "+-------------+-------------------+--------------------+\n",
      "|    Range    |      Variance     | Standard Deviation |\n",
      "+-------------+-------------------+--------------------+\n",
      "| 12700000.00 | 10108817221659.97 |     3179436.62     |\n",
      "+-------------+-------------------+--------------------+\n",
      "\n",
      "\n",
      "Funding USD Central Tendency & Spread Values for sample size  1000 :\n",
      "+------------+-----------+------+\n",
      "|    Mean    |   Median  | Mode |\n",
      "+------------+-----------+------+\n",
      "| 2502525.03 | 505000.00 | 0.00 |\n",
      "+------------+-----------+------+\n",
      "+-------------+-------------------+--------------------+\n",
      "|    Range    |      Variance     | Standard Deviation |\n",
      "+-------------+-------------------+--------------------+\n",
      "| 16350000.00 | 16787586251589.33 |     4097265.70     |\n",
      "+-------------+-------------------+--------------------+\n",
      "\n",
      "\n"
     ]
    }
   ],
   "source": [
    "samples_sizes_to_test = [10, 100, 500, 1000]\n",
    "\n",
    "for size in samples_sizes_to_test:\n",
    "    random_sample_df = drop_outliers(df, 'funding_total_usd').sample(n=100)\n",
    "    usa_mask = random_sample_df['country_code'] == 'USA'\n",
    "    usa_df = random_sample_df[usa_mask]\n",
    "    print(\"Funding USD Central Tendency & Spread Values for sample size \", size, \":\")\n",
    "    central_tendency(usa_df['funding_total_usd'])\n",
    "    measures_of_spread(usa_df['funding_total_usd'])\n",
    "    print(\"\\n\")"
   ]
  },
  {
   "cell_type": "markdown",
   "metadata": {},
   "source": [
    "Sample size affects the statistics, such as mean and median, but the range remains rather consistent. The mode many times is also consistent with 0.00, indicating that a significant number of data points have no recorded funding across all samples.\n",
    "\n",
    "In conclusion, the choice of sample size can significantly impact the summary statistics, and the presence of zero funding values can still significantly skew results in any sample."
   ]
  },
  {
   "cell_type": "markdown",
   "metadata": {},
   "source": [
    "### Subsetting, Sampling, Benchmarking and Visualisation:\n",
    "Now we are filtering only the companies based in each of the United States, Canada, France, Germany, China, India and South Korea. We will analyse the same dataset to find average number of days taken for a startup to be funded for each of the aforesaid countries and compare results"
   ]
  },
  {
   "cell_type": "code",
   "execution_count": 592,
   "metadata": {},
   "outputs": [
    {
     "name": "stdout",
     "output_type": "stream",
     "text": [
      "Measures of central tendency and spread 1000 :\n",
      "+--------+--------+------+\n",
      "|  Mean  | Median | Mode |\n",
      "+--------+--------+------+\n",
      "| 300.79 |  0.00  | 0.00 |\n",
      "+--------+--------+------+\n",
      "+---------+-----------+--------------------+\n",
      "|  Range  |  Variance | Standard Deviation |\n",
      "+---------+-----------+--------------------+\n",
      "| 1668.00 | 209587.40 |       457.81       |\n",
      "+---------+-----------+--------------------+\n"
     ]
    },
    {
     "name": "stderr",
     "output_type": "stream",
     "text": [
      "/var/folders/wv/f74f4dpn75v5cgd05yy1xcs80000gn/T/ipykernel_8292/2247427896.py:5: SettingWithCopyWarning: \n",
      "A value is trying to be set on a copy of a slice from a DataFrame.\n",
      "Try using .loc[row_indexer,col_indexer] = value instead\n",
      "\n",
      "See the caveats in the documentation: https://pandas.pydata.org/pandas-docs/stable/user_guide/indexing.html#returning-a-view-versus-a-copy\n",
      "  selected_countries_df['founded_to_first_funding_days'] = (selected_countries_df['last_funding_at'] - selected_countries_df['first_funding_at']).dt.days\n"
     ]
    },
    {
     "data": {
      "image/png": "[encoded data removed]",
      "text/plain": [
       "<Figure size 640x480 with 1 Axes>"
      ]
     },
     "metadata": {},
     "output_type": "display_data"
    }
   ],
   "source": [
    "selected_countries = ['USA', 'CAN', 'FRA', 'DEU', 'CHN', 'IND', 'KOR']\n",
    "random_sample_df = drop_outliers(dropped_outliers_df, 'funding_total_usd').sample(n=100)\n",
    "selected_countries_mask = random_sample_df['country_code'].isin(selected_countries)\n",
    "selected_countries_df = random_sample_df[selected_countries_mask]\n",
    "selected_countries_df['founded_to_first_funding_days'] = (selected_countries_df['last_funding_at'] - selected_countries_df['first_funding_at']).dt.days\n",
    "print(\"Measures of central tendency and spread\", size, \":\")\n",
    "central_tendency(selected_countries_df['founded_to_first_funding_days'])\n",
    "measures_of_spread(selected_countries_df['founded_to_first_funding_days'])\n",
    "\n",
    "selected_countries_df.groupby('country_code')['founded_to_first_funding_days'].mean().astype(int).plot(kind='bar')\n",
    "sns.set(style='whitegrid')\n",
    "plt.title('Average Days Taken to be Funded per Country')\n",
    "plt.xlabel('Country Code')\n",
    "plt.ylabel('Average Days')\n",
    "plt.xticks(rotation=0)\n",
    "plt.show()"
   ]
  },
  {
   "cell_type": "markdown",
   "metadata": {},
   "source": [
    "We can see that the average number of days taken for a startup to be funded will depend entirely on the sample selected. Sometimes some countries are not selected therefore the data should not be considered as this will show as 0 days. It is important to consider this use-case when analysing either by deleting the country in question or making sure to tell analysts that the country in question was not analysed in the sample. We can also consider instead another sampling method, we can force each country to have a specific sample lets say 50 per country in order to avoid nulls later on. This would potentially solve our sampling issue and still keep the dataset random."
   ]
  },
  {
   "cell_type": "markdown",
   "metadata": {},
   "source": [
    "### Probability Theory: \n",
    "Lets' find the probability for startups of being funded within the first 6 months since their creation for the overall dataset and then repeat the same sequence of procedures for the countries United States, Canada, France, Germany, China, and India."
   ]
  },
  {
   "cell_type": "code",
   "execution_count": 593,
   "metadata": {},
   "outputs": [
    {
     "name": "stdout",
     "output_type": "stream",
     "text": [
      "Overall Probability (All Countries): 0.7463126355344403\n",
      "Probability for USA: 71.23%\n",
      "Probability for CAN: 77.42%\n",
      "Probability for FRA: 75.11%\n",
      "Probability for DEU: 71.10%\n",
      "Probability for CHN: 66.31%\n",
      "Probability for IND: 82.88%\n"
     ]
    },
    {
     "name": "stderr",
     "output_type": "stream",
     "text": [
      "/var/folders/wv/f74f4dpn75v5cgd05yy1xcs80000gn/T/ipykernel_8292/2712162892.py:4: SettingWithCopyWarning: \n",
      "A value is trying to be set on a copy of a slice from a DataFrame.\n",
      "Try using .loc[row_indexer,col_indexer] = value instead\n",
      "\n",
      "See the caveats in the documentation: https://pandas.pydata.org/pandas-docs/stable/user_guide/indexing.html#returning-a-view-versus-a-copy\n",
      "  dropped_outliers_df['founded_at'] = pd.to_datetime(dropped_outliers_df['founded_at'])\n",
      "/var/folders/wv/f74f4dpn75v5cgd05yy1xcs80000gn/T/ipykernel_8292/2712162892.py:5: SettingWithCopyWarning: \n",
      "A value is trying to be set on a copy of a slice from a DataFrame.\n",
      "Try using .loc[row_indexer,col_indexer] = value instead\n",
      "\n",
      "See the caveats in the documentation: https://pandas.pydata.org/pandas-docs/stable/user_guide/indexing.html#returning-a-view-versus-a-copy\n",
      "  dropped_outliers_df['first_funding_at'] = pd.to_datetime(dropped_outliers_df['first_funding_at'])\n",
      "/var/folders/wv/f74f4dpn75v5cgd05yy1xcs80000gn/T/ipykernel_8292/2712162892.py:6: SettingWithCopyWarning: \n",
      "A value is trying to be set on a copy of a slice from a DataFrame.\n",
      "Try using .loc[row_indexer,col_indexer] = value instead\n",
      "\n",
      "See the caveats in the documentation: https://pandas.pydata.org/pandas-docs/stable/user_guide/indexing.html#returning-a-view-versus-a-copy\n",
      "  dropped_outliers_df['months_to_funding'] = (dropped_outliers_df['last_funding_at'] - dropped_outliers_df['first_funding_at']) / pd.Timedelta(days=30)\n"
     ]
    },
    {
     "data": {
      "image/png": "[encoded data removed]",
      "text/plain": [
       "<Figure size 500x300 with 1 Axes>"
      ]
     },
     "metadata": {},
     "output_type": "display_data"
    }
   ],
   "source": [
    "countries = ['USA', 'CAN', 'FRA', 'DEU', 'CHN', 'IND']\n",
    "country_probabilities = {}\n",
    "\n",
    "dropped_outliers_df['founded_at'] = pd.to_datetime(dropped_outliers_df['founded_at'])\n",
    "dropped_outliers_df['first_funding_at'] = pd.to_datetime(dropped_outliers_df['first_funding_at'])\n",
    "dropped_outliers_df['months_to_funding'] = (dropped_outliers_df['last_funding_at'] - dropped_outliers_df['first_funding_at']) / pd.Timedelta(days=30)\n",
    "within_6_months = (dropped_outliers_df['months_to_funding'] <= 6)\n",
    "overall_probability = within_6_months.mean()\n",
    "print(\"Overall Probability (All Countries):\", overall_probability)\n",
    "for country in countries:\n",
    "    country_df = dropped_outliers_df[dropped_outliers_df['country_code'] == country]\n",
    "    country_probability = (country_df['months_to_funding'] <= 6).mean()\n",
    "    country_probabilities[country] = country_probability\n",
    "    print(\"Probability for {}: {:.2%}\".format(country, country_probability))\n",
    "\n",
    "countries = list(country_probabilities.keys())\n",
    "probabilities = list(country_probabilities.values())\n",
    "plt.figure(figsize=(5, 3))\n",
    "plt.bar(countries, probabilities, color='skyblue')\n",
    "plt.axhline(y=overall_probability, color='b', linestyle='-', label=f'Average Probability ({overall_probability:.2f})')\n",
    "plt.title('Probability of Startups Being Funded Within 6 Months by Country')\n",
    "plt.xlabel('Country')\n",
    "plt.ylabel('Probability')\n",
    "plt.show()"
   ]
  },
  {
   "cell_type": "markdown",
   "metadata": {},
   "source": [
    "The plot graph shows us that India seems to have the highest probability and United States the Lowest. All the data is close to the mean value."
   ]
  },
  {
   "cell_type": "markdown",
   "metadata": {},
   "source": [
    "### Advanced Probability Theory\n",
    "The probability for startups of being funded within the first 6 months given the fact that they are based on software domain for the countries United States, Canada, France, Germany, China, and India."
   ]
  },
  {
   "cell_type": "code",
   "execution_count": 594,
   "metadata": {},
   "outputs": [
    {
     "name": "stderr",
     "output_type": "stream",
     "text": [
      "/var/folders/wv/f74f4dpn75v5cgd05yy1xcs80000gn/T/ipykernel_8292/1742254030.py:6: SettingWithCopyWarning: \n",
      "A value is trying to be set on a copy of a slice from a DataFrame.\n",
      "Try using .loc[row_indexer,col_indexer] = value instead\n",
      "\n",
      "See the caveats in the documentation: https://pandas.pydata.org/pandas-docs/stable/user_guide/indexing.html#returning-a-view-versus-a-copy\n",
      "  dropped_outliers_df['founded_at'] = pd.to_datetime(dropped_outliers_df['founded_at'])\n",
      "/var/folders/wv/f74f4dpn75v5cgd05yy1xcs80000gn/T/ipykernel_8292/1742254030.py:7: SettingWithCopyWarning: \n",
      "A value is trying to be set on a copy of a slice from a DataFrame.\n",
      "Try using .loc[row_indexer,col_indexer] = value instead\n",
      "\n",
      "See the caveats in the documentation: https://pandas.pydata.org/pandas-docs/stable/user_guide/indexing.html#returning-a-view-versus-a-copy\n",
      "  dropped_outliers_df['first_funding_at'] = pd.to_datetime(dropped_outliers_df['first_funding_at'])\n",
      "/var/folders/wv/f74f4dpn75v5cgd05yy1xcs80000gn/T/ipykernel_8292/1742254030.py:8: SettingWithCopyWarning: \n",
      "A value is trying to be set on a copy of a slice from a DataFrame.\n",
      "Try using .loc[row_indexer,col_indexer] = value instead\n",
      "\n",
      "See the caveats in the documentation: https://pandas.pydata.org/pandas-docs/stable/user_guide/indexing.html#returning-a-view-versus-a-copy\n",
      "  dropped_outliers_df['months_to_funding'] = (dropped_outliers_df['last_funding_at'] - dropped_outliers_df['first_funding_at']) / pd.Timedelta(days=30)\n"
     ]
    },
    {
     "name": "stdout",
     "output_type": "stream",
     "text": [
      "Overall Probability (All Countries): 0.658012533572068\n",
      "Probability for USA: 61.83%\n",
      "Probability for CAN: 66.75%\n",
      "Probability for FRA: 71.53%\n",
      "Probability for DEU: 70.26%\n",
      "Probability for CHN: 65.52%\n",
      "Probability for IND: 78.14%\n"
     ]
    },
    {
     "data": {
      "image/png": "[encoded data removed]",
      "text/plain": [
       "<Figure size 500x300 with 1 Axes>"
      ]
     },
     "metadata": {},
     "output_type": "display_data"
    }
   ],
   "source": [
    "countries = ['USA', 'CAN', 'FRA', 'DEU', 'CHN', 'IND']\n",
    "country_probabilities = {}\n",
    "\n",
    "software_startups = df[df['category_list'].str.contains('Software', case=False, na=False)]\n",
    "dropped_outliers_df = drop_outliers(software_startups, 'funding_total_usd')\n",
    "dropped_outliers_df['founded_at'] = pd.to_datetime(dropped_outliers_df['founded_at'])\n",
    "dropped_outliers_df['first_funding_at'] = pd.to_datetime(dropped_outliers_df['first_funding_at'])\n",
    "dropped_outliers_df['months_to_funding'] = (dropped_outliers_df['last_funding_at'] - dropped_outliers_df['first_funding_at']) / pd.Timedelta(days=30)\n",
    "within_6_months = (dropped_outliers_df['months_to_funding'] <= 6)\n",
    "overall_probability = within_6_months.mean()\n",
    "print(\"Overall Probability (All Countries):\", overall_probability)\n",
    "for country in countries:\n",
    "    country_df = dropped_outliers_df[dropped_outliers_df['country_code'] == country]\n",
    "    country_probability = (country_df['months_to_funding'] <= 6).mean()\n",
    "    country_probabilities[country] = country_probability\n",
    "    print(\"Probability for {}: {:.2%}\".format(country, country_probability))\n",
    "\n",
    "countries = list(country_probabilities.keys())\n",
    "probabilities = list(country_probabilities.values())\n",
    "plt.figure(figsize=(5, 3))\n",
    "plt.bar(countries, probabilities, color='skyblue')\n",
    "plt.axhline(y=overall_probability, color='b', linestyle='-', label=f'Average Probability ({overall_probability:.2f})')\n",
    "plt.title('Probability of Software Startups Being Funded Within 6 Months by Country')\n",
    "plt.xlabel('Country')\n",
    "plt.ylabel('Probability')\n",
    "plt.show()"
   ]
  },
  {
   "cell_type": "markdown",
   "metadata": {},
   "source": [
    "The plot graph shows us that India seems to have the highest probability and United States the Lowest. All the data is close to the mean value."
   ]
  },
  {
   "cell_type": "markdown",
   "metadata": {},
   "source": [
    "### Advanced Probability Theory\n",
    "Finding the probability that a startup belongs to health care domain given the fact that it was funded within the first 6 months for the countries United States, Canada, France, Germany, China, and India."
   ]
  },
  {
   "cell_type": "code",
   "execution_count": 595,
   "metadata": {},
   "outputs": [
    {
     "name": "stdout",
     "output_type": "stream",
     "text": [
      "Overall Probability (All Countries): 0.6371364653243848\n"
     ]
    },
    {
     "name": "stderr",
     "output_type": "stream",
     "text": [
      "/var/folders/wv/f74f4dpn75v5cgd05yy1xcs80000gn/T/ipykernel_8292/4191297184.py:6: SettingWithCopyWarning: \n",
      "A value is trying to be set on a copy of a slice from a DataFrame.\n",
      "Try using .loc[row_indexer,col_indexer] = value instead\n",
      "\n",
      "See the caveats in the documentation: https://pandas.pydata.org/pandas-docs/stable/user_guide/indexing.html#returning-a-view-versus-a-copy\n",
      "  dropped_outliers_df['founded_at'] = pd.to_datetime(dropped_outliers_df['founded_at'])\n",
      "/var/folders/wv/f74f4dpn75v5cgd05yy1xcs80000gn/T/ipykernel_8292/4191297184.py:7: SettingWithCopyWarning: \n",
      "A value is trying to be set on a copy of a slice from a DataFrame.\n",
      "Try using .loc[row_indexer,col_indexer] = value instead\n",
      "\n",
      "See the caveats in the documentation: https://pandas.pydata.org/pandas-docs/stable/user_guide/indexing.html#returning-a-view-versus-a-copy\n",
      "  dropped_outliers_df['first_funding_at'] = pd.to_datetime(dropped_outliers_df['first_funding_at'])\n",
      "/var/folders/wv/f74f4dpn75v5cgd05yy1xcs80000gn/T/ipykernel_8292/4191297184.py:8: SettingWithCopyWarning: \n",
      "A value is trying to be set on a copy of a slice from a DataFrame.\n",
      "Try using .loc[row_indexer,col_indexer] = value instead\n",
      "\n",
      "See the caveats in the documentation: https://pandas.pydata.org/pandas-docs/stable/user_guide/indexing.html#returning-a-view-versus-a-copy\n",
      "  dropped_outliers_df['months_to_funding'] = (dropped_outliers_df['last_funding_at'] - dropped_outliers_df['first_funding_at']) / pd.Timedelta(days=30)\n"
     ]
    },
    {
     "data": {
      "image/png": "[encoded data removed]",
      "text/plain": [
       "<Figure size 500x300 with 1 Axes>"
      ]
     },
     "metadata": {},
     "output_type": "display_data"
    }
   ],
   "source": [
    "countries = ['USA', 'CAN', 'FRA', 'DEU', 'CHN', 'IND']\n",
    "country_probabilities = {}\n",
    "\n",
    "health_care_startups = df[df['category_list'].str.contains('Health Care', case=False, na=False)]\n",
    "dropped_outliers_df = drop_outliers(health_care_startups, 'funding_total_usd')\n",
    "dropped_outliers_df['founded_at'] = pd.to_datetime(dropped_outliers_df['founded_at'])\n",
    "dropped_outliers_df['first_funding_at'] = pd.to_datetime(dropped_outliers_df['first_funding_at'])\n",
    "dropped_outliers_df['months_to_funding'] = (dropped_outliers_df['last_funding_at'] - dropped_outliers_df['first_funding_at']) / pd.Timedelta(days=30)\n",
    "within_6_months = (dropped_outliers_df['months_to_funding'] <= 6)\n",
    "overall_probability = within_6_months.mean()\n",
    "print(\"Overall Probability (All Countries):\", overall_probability)\n",
    "for country in countries:\n",
    "    country_df = dropped_outliers_df[dropped_outliers_df['country_code'] == country]\n",
    "    country_probability = (country_df['months_to_funding'] <= 6).mean()\n",
    "    country_probabilities[country] = country_probability\n",
    "    #print(\"Probability for {}: {:.2%}\".format(country, country_probability))\n",
    "\n",
    "countries = list(country_probabilities.keys())\n",
    "probabilities = list(country_probabilities.values())\n",
    "plt.figure(figsize=(5, 3))\n",
    "plt.bar(countries, probabilities, color='skyblue')\n",
    "plt.axhline(y=overall_probability, color='b', linestyle='-', label=f'Average Probability ({overall_probability:.2f})')\n",
    "plt.title('Probability of Health Care Startups Being Funded Within 6 Months by Country')\n",
    "plt.xlabel('Country')\n",
    "plt.ylabel('Probability')\n",
    "plt.show()"
   ]
  },
  {
   "cell_type": "markdown",
   "metadata": {},
   "source": [
    "The plot graph shows us that India seems to have the highest probability and United States the Lowest. All the data is close to the mean value."
   ]
  },
  {
   "cell_type": "markdown",
   "metadata": {},
   "source": [
    "### Advanced Probability Theory\n",
    "Repeat the analysis in Question 8 but this time perform the operation by first sampling your dataset randomly by getting only 10 data points in the beginning and report your observations as that in Question 8. Next, attempt to repeat the aforesaid procedure for dataset of increasing sample size of 50, 100, 200, 300, 400, 500, 600, and 800. Plot the various probabilities observed against the number of data points you have obtained and write in your own words the observations. "
   ]
  },
  {
   "cell_type": "code",
   "execution_count": 596,
   "metadata": {},
   "outputs": [
    {
     "name": "stderr",
     "output_type": "stream",
     "text": [
      "/var/folders/wv/f74f4dpn75v5cgd05yy1xcs80000gn/T/ipykernel_8292/1599675813.py:4: SettingWithCopyWarning: \n",
      "A value is trying to be set on a copy of a slice from a DataFrame.\n",
      "Try using .loc[row_indexer,col_indexer] = value instead\n",
      "\n",
      "See the caveats in the documentation: https://pandas.pydata.org/pandas-docs/stable/user_guide/indexing.html#returning-a-view-versus-a-copy\n",
      "  software_startups['months_to_funding'] = (dropped_outliers_df['last_funding_at'] - dropped_outliers_df['first_funding_at']).dt.days\n"
     ]
    },
    {
     "data": {
      "image/png": "[encoded data removed]",
      "text/plain": [
       "<Figure size 640x480 with 1 Axes>"
      ]
     },
     "metadata": {},
     "output_type": "display_data"
    },
    {
     "name": "stdout",
     "output_type": "stream",
     "text": [
      "Original Probability for Software Startups: 0.007485380116959065\n",
      "Probability Results for Random Sampling: [0.0, 0.0, 0.01, 0.005, 0.016666666666666666, 0.01, 0.018, 0.006666666666666667, 0.00625]\n"
     ]
    }
   ],
   "source": [
    "sample_sizes = [10, 50, 100, 200, 300, 400, 500, 600, 800]\n",
    "probability_results = []\n",
    "total_startups = len(software_startups)\n",
    "software_startups['months_to_funding'] = (dropped_outliers_df['last_funding_at'] - dropped_outliers_df['first_funding_at']).dt.days\n",
    "startups_within_time_window = len(software_startups[software_startups['months_to_funding'] <= (6 * 30)])\n",
    "probability_software = startups_within_time_window / total_startups\n",
    "\n",
    "for sample_size in sample_sizes:\n",
    "    random_sample = software_startups.sample(n=sample_size, replace=True)\n",
    "    software_subset = random_sample[random_sample['category_list'].str.contains('Software', case=False, na=False)]\n",
    "    software_within_6_months = len(software_subset[software_subset['months_to_funding'] <= (6 * 30)])\n",
    "    probability_result = software_within_6_months / sample_size\n",
    "    probability_results.append(probability_result)\n",
    "\n",
    "plt.plot(sample_sizes, probability_results, marker='o')\n",
    "plt.title('Probability of Software Company Funding Within 6 Months (Random Sampling)')\n",
    "plt.xlabel('Sample Size')\n",
    "plt.ylabel('Probability')\n",
    "plt.show()\n",
    "print(f\"Original Probability for Software Startups: {probability_software}\")\n",
    "print(\"Probability Results for Random Sampling:\", probability_results)"
   ]
  },
  {
   "cell_type": "code",
   "execution_count": null,
   "metadata": {},
   "outputs": [],
   "source": []
  }
 ],
 "metadata": {
  "kernelspec": {
   "display_name": "Python 3",
   "language": "python",
   "name": "python3"
  },
  "language_info": {
   "codemirror_mode": {
    "name": "ipython",
    "version": 3
   },
   "file_extension": ".py",
   "mimetype": "text/x-python",
   "name": "python",
   "nbconvert_exporter": "python",
   "pygments_lexer": "ipython3",
   "version": "3.10.1"
  }
 },
 "nbformat": 4,
 "nbformat_minor": 2
}
